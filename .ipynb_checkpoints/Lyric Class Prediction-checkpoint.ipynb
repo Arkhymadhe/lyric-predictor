{
 "cells": [
  {
   "cell_type": "markdown",
   "id": "a4f7b740",
   "metadata": {},
   "source": [
    "Steps:\n",
    "\n",
    "1. Load the data.\n",
    "2. Cast text to lower case.\n",
    "3. El,iminate punctuation.\n",
    "4. Get the maximum number of tokens in the data.\n",
    "5. Tokenize the data."
   ]
  },
  {
   "cell_type": "code",
   "execution_count": 1,
   "id": "f96de916",
   "metadata": {},
   "outputs": [],
   "source": [
    "import string\n",
    "import os\n",
    "\n",
    "import pandas as pd\n",
    "import numpy as np\n",
    "\n",
    "import torch\n",
    "from torch import nn\n",
    "from torch import optim\n",
    "from torch.utils.data import Dataset, DataLoader\n",
    "from torch.nn import functional as F\n",
    "\n",
    "from unidecode import unidecode"
   ]
  },
  {
   "cell_type": "code",
   "execution_count": 2,
   "id": "8ac908ea",
   "metadata": {},
   "outputs": [],
   "source": [
    "### Reproducibility\n",
    "torch.manual_seed(42)\n",
    "os.environ['PYTHONHASHSEED'] = str(42)"
   ]
  },
  {
   "cell_type": "code",
   "execution_count": 3,
   "id": "e2e9c15a",
   "metadata": {},
   "outputs": [],
   "source": [
    "BATCH_SIZE = 32\n",
    "SEQ_LEN = 400"
   ]
  },
  {
   "cell_type": "code",
   "execution_count": 4,
   "id": "f82b4ce3",
   "metadata": {},
   "outputs": [],
   "source": [
    "data = pd.read_csv(\"train.csv\")"
   ]
  },
  {
   "cell_type": "code",
   "execution_count": 5,
   "id": "8c8fa0fe",
   "metadata": {},
   "outputs": [
    {
     "data": {
      "text/html": [
       "<div>\n",
       "<style scoped>\n",
       "    .dataframe tbody tr th:only-of-type {\n",
       "        vertical-align: middle;\n",
       "    }\n",
       "\n",
       "    .dataframe tbody tr th {\n",
       "        vertical-align: top;\n",
       "    }\n",
       "\n",
       "    .dataframe thead th {\n",
       "        text-align: right;\n",
       "    }\n",
       "</style>\n",
       "<table border=\"1\" class=\"dataframe\">\n",
       "  <thead>\n",
       "    <tr style=\"text-align: right;\">\n",
       "      <th></th>\n",
       "      <th>lyric</th>\n",
       "      <th>class</th>\n",
       "    </tr>\n",
       "  </thead>\n",
       "  <tbody>\n",
       "    <tr>\n",
       "      <th>0</th>\n",
       "      <td>Can't drink without thinkin' about you</td>\n",
       "      <td>1</td>\n",
       "    </tr>\n",
       "    <tr>\n",
       "      <th>1</th>\n",
       "      <td>Now Lil Pump flyin' private jet (Yuh)</td>\n",
       "      <td>0</td>\n",
       "    </tr>\n",
       "    <tr>\n",
       "      <th>2</th>\n",
       "      <td>No, matter fact, you ain't help me when I had ...</td>\n",
       "      <td>0</td>\n",
       "    </tr>\n",
       "    <tr>\n",
       "      <th>3</th>\n",
       "      <td>And you could find me, I ain't hidin'</td>\n",
       "      <td>0</td>\n",
       "    </tr>\n",
       "    <tr>\n",
       "      <th>4</th>\n",
       "      <td>From the way you talk to the way you move</td>\n",
       "      <td>1</td>\n",
       "    </tr>\n",
       "  </tbody>\n",
       "</table>\n",
       "</div>"
      ],
      "text/plain": [
       "                                               lyric  class\n",
       "0             Can't drink without thinkin' about you      1\n",
       "1              Now Lil Pump flyin' private jet (Yuh)      0\n",
       "2  No, matter fact, you ain't help me when I had ...      0\n",
       "3              And you could find me, I ain't hidin'      0\n",
       "4          From the way you talk to the way you move      1"
      ]
     },
     "execution_count": 5,
     "metadata": {},
     "output_type": "execute_result"
    }
   ],
   "source": [
    "data.head()"
   ]
  },
  {
   "cell_type": "code",
   "execution_count": 6,
   "id": "d08dd48b",
   "metadata": {},
   "outputs": [],
   "source": [
    "data['lyric'] = data['lyric'].str.lower()"
   ]
  },
  {
   "cell_type": "code",
   "execution_count": 7,
   "id": "7062b54d",
   "metadata": {},
   "outputs": [
    {
     "data": {
      "text/html": [
       "<div>\n",
       "<style scoped>\n",
       "    .dataframe tbody tr th:only-of-type {\n",
       "        vertical-align: middle;\n",
       "    }\n",
       "\n",
       "    .dataframe tbody tr th {\n",
       "        vertical-align: top;\n",
       "    }\n",
       "\n",
       "    .dataframe thead th {\n",
       "        text-align: right;\n",
       "    }\n",
       "</style>\n",
       "<table border=\"1\" class=\"dataframe\">\n",
       "  <thead>\n",
       "    <tr style=\"text-align: right;\">\n",
       "      <th></th>\n",
       "      <th>lyric</th>\n",
       "      <th>class</th>\n",
       "    </tr>\n",
       "  </thead>\n",
       "  <tbody>\n",
       "    <tr>\n",
       "      <th>0</th>\n",
       "      <td>can't drink without thinkin' about you</td>\n",
       "      <td>1</td>\n",
       "    </tr>\n",
       "    <tr>\n",
       "      <th>1</th>\n",
       "      <td>now lil pump flyin' private jet (yuh)</td>\n",
       "      <td>0</td>\n",
       "    </tr>\n",
       "    <tr>\n",
       "      <th>2</th>\n",
       "      <td>no, matter fact, you ain't help me when i had ...</td>\n",
       "      <td>0</td>\n",
       "    </tr>\n",
       "    <tr>\n",
       "      <th>3</th>\n",
       "      <td>and you could find me, i ain't hidin'</td>\n",
       "      <td>0</td>\n",
       "    </tr>\n",
       "    <tr>\n",
       "      <th>4</th>\n",
       "      <td>from the way you talk to the way you move</td>\n",
       "      <td>1</td>\n",
       "    </tr>\n",
       "  </tbody>\n",
       "</table>\n",
       "</div>"
      ],
      "text/plain": [
       "                                               lyric  class\n",
       "0             can't drink without thinkin' about you      1\n",
       "1              now lil pump flyin' private jet (yuh)      0\n",
       "2  no, matter fact, you ain't help me when i had ...      0\n",
       "3              and you could find me, i ain't hidin'      0\n",
       "4          from the way you talk to the way you move      1"
      ]
     },
     "execution_count": 7,
     "metadata": {},
     "output_type": "execute_result"
    }
   ],
   "source": [
    "data.head()"
   ]
  },
  {
   "cell_type": "code",
   "execution_count": 8,
   "id": "95d975bf",
   "metadata": {},
   "outputs": [],
   "source": [
    "def clear_punctuation(text):\n",
    "    text = ''.join([char for char in text if char not in all_punct])\n",
    "    return text"
   ]
  },
  {
   "cell_type": "code",
   "execution_count": 9,
   "id": "ad9fc833",
   "metadata": {},
   "outputs": [],
   "source": [
    "all_char = string.ascii_lowercase + string.digits"
   ]
  },
  {
   "cell_type": "code",
   "execution_count": 10,
   "id": "2fad7ff8",
   "metadata": {},
   "outputs": [
    {
     "data": {
      "text/plain": [
       "'abcdefghijklmnopqrstuvwxyz0123456789'"
      ]
     },
     "execution_count": 10,
     "metadata": {},
     "output_type": "execute_result"
    }
   ],
   "source": [
    "all_char"
   ]
  },
  {
   "cell_type": "code",
   "execution_count": 11,
   "id": "1c87ad24",
   "metadata": {},
   "outputs": [],
   "source": [
    "all_punct = string.punctuation"
   ]
  },
  {
   "cell_type": "code",
   "execution_count": 12,
   "id": "19746830",
   "metadata": {},
   "outputs": [
    {
     "data": {
      "text/plain": [
       "'!\"#$%&\\'()*+,-./:;<=>?@[\\\\]^_`{|}~'"
      ]
     },
     "execution_count": 12,
     "metadata": {},
     "output_type": "execute_result"
    }
   ],
   "source": [
    "all_punct"
   ]
  },
  {
   "cell_type": "code",
   "execution_count": 13,
   "id": "e5f072e4",
   "metadata": {},
   "outputs": [],
   "source": [
    "data['lyric'] = data['lyric'].apply(clear_punctuation)"
   ]
  },
  {
   "cell_type": "code",
   "execution_count": 14,
   "id": "ea2fc143",
   "metadata": {},
   "outputs": [
    {
     "data": {
      "text/html": [
       "<div>\n",
       "<style scoped>\n",
       "    .dataframe tbody tr th:only-of-type {\n",
       "        vertical-align: middle;\n",
       "    }\n",
       "\n",
       "    .dataframe tbody tr th {\n",
       "        vertical-align: top;\n",
       "    }\n",
       "\n",
       "    .dataframe thead th {\n",
       "        text-align: right;\n",
       "    }\n",
       "</style>\n",
       "<table border=\"1\" class=\"dataframe\">\n",
       "  <thead>\n",
       "    <tr style=\"text-align: right;\">\n",
       "      <th></th>\n",
       "      <th>lyric</th>\n",
       "      <th>class</th>\n",
       "    </tr>\n",
       "  </thead>\n",
       "  <tbody>\n",
       "    <tr>\n",
       "      <th>0</th>\n",
       "      <td>cant drink without thinkin about you</td>\n",
       "      <td>1</td>\n",
       "    </tr>\n",
       "    <tr>\n",
       "      <th>1</th>\n",
       "      <td>now lil pump flyin private jet yuh</td>\n",
       "      <td>0</td>\n",
       "    </tr>\n",
       "    <tr>\n",
       "      <th>2</th>\n",
       "      <td>no matter fact you aint help me when i had no ...</td>\n",
       "      <td>0</td>\n",
       "    </tr>\n",
       "    <tr>\n",
       "      <th>3</th>\n",
       "      <td>and you could find me i aint hidin</td>\n",
       "      <td>0</td>\n",
       "    </tr>\n",
       "    <tr>\n",
       "      <th>4</th>\n",
       "      <td>from the way you talk to the way you move</td>\n",
       "      <td>1</td>\n",
       "    </tr>\n",
       "  </tbody>\n",
       "</table>\n",
       "</div>"
      ],
      "text/plain": [
       "                                               lyric  class\n",
       "0               cant drink without thinkin about you      1\n",
       "1                 now lil pump flyin private jet yuh      0\n",
       "2  no matter fact you aint help me when i had no ...      0\n",
       "3                 and you could find me i aint hidin      0\n",
       "4          from the way you talk to the way you move      1"
      ]
     },
     "execution_count": 14,
     "metadata": {},
     "output_type": "execute_result"
    }
   ],
   "source": [
    "data.head()"
   ]
  },
  {
   "cell_type": "code",
   "execution_count": 15,
   "id": "44969eef",
   "metadata": {},
   "outputs": [],
   "source": [
    "data['lyric_len'] = data['lyric'].apply(len)"
   ]
  },
  {
   "cell_type": "code",
   "execution_count": 16,
   "id": "d3c66a7a",
   "metadata": {},
   "outputs": [
    {
     "data": {
      "text/html": [
       "<div>\n",
       "<style scoped>\n",
       "    .dataframe tbody tr th:only-of-type {\n",
       "        vertical-align: middle;\n",
       "    }\n",
       "\n",
       "    .dataframe tbody tr th {\n",
       "        vertical-align: top;\n",
       "    }\n",
       "\n",
       "    .dataframe thead th {\n",
       "        text-align: right;\n",
       "    }\n",
       "</style>\n",
       "<table border=\"1\" class=\"dataframe\">\n",
       "  <thead>\n",
       "    <tr style=\"text-align: right;\">\n",
       "      <th></th>\n",
       "      <th>lyric</th>\n",
       "      <th>class</th>\n",
       "      <th>lyric_len</th>\n",
       "    </tr>\n",
       "  </thead>\n",
       "  <tbody>\n",
       "    <tr>\n",
       "      <th>0</th>\n",
       "      <td>cant drink without thinkin about you</td>\n",
       "      <td>1</td>\n",
       "      <td>36</td>\n",
       "    </tr>\n",
       "    <tr>\n",
       "      <th>1</th>\n",
       "      <td>now lil pump flyin private jet yuh</td>\n",
       "      <td>0</td>\n",
       "      <td>34</td>\n",
       "    </tr>\n",
       "    <tr>\n",
       "      <th>2</th>\n",
       "      <td>no matter fact you aint help me when i had no ...</td>\n",
       "      <td>0</td>\n",
       "      <td>51</td>\n",
       "    </tr>\n",
       "    <tr>\n",
       "      <th>3</th>\n",
       "      <td>and you could find me i aint hidin</td>\n",
       "      <td>0</td>\n",
       "      <td>34</td>\n",
       "    </tr>\n",
       "    <tr>\n",
       "      <th>4</th>\n",
       "      <td>from the way you talk to the way you move</td>\n",
       "      <td>1</td>\n",
       "      <td>41</td>\n",
       "    </tr>\n",
       "  </tbody>\n",
       "</table>\n",
       "</div>"
      ],
      "text/plain": [
       "                                               lyric  class  lyric_len\n",
       "0               cant drink without thinkin about you      1         36\n",
       "1                 now lil pump flyin private jet yuh      0         34\n",
       "2  no matter fact you aint help me when i had no ...      0         51\n",
       "3                 and you could find me i aint hidin      0         34\n",
       "4          from the way you talk to the way you move      1         41"
      ]
     },
     "execution_count": 16,
     "metadata": {},
     "output_type": "execute_result"
    }
   ],
   "source": [
    "data.head()"
   ]
  },
  {
   "cell_type": "code",
   "execution_count": 17,
   "id": "0c7c178a",
   "metadata": {},
   "outputs": [
    {
     "data": {
      "text/html": [
       "<div>\n",
       "<style scoped>\n",
       "    .dataframe tbody tr th:only-of-type {\n",
       "        vertical-align: middle;\n",
       "    }\n",
       "\n",
       "    .dataframe tbody tr th {\n",
       "        vertical-align: top;\n",
       "    }\n",
       "\n",
       "    .dataframe thead th {\n",
       "        text-align: right;\n",
       "    }\n",
       "</style>\n",
       "<table border=\"1\" class=\"dataframe\">\n",
       "  <thead>\n",
       "    <tr style=\"text-align: right;\">\n",
       "      <th></th>\n",
       "      <th>lyric</th>\n",
       "      <th>class</th>\n",
       "      <th>lyric_len</th>\n",
       "    </tr>\n",
       "  </thead>\n",
       "  <tbody>\n",
       "    <tr>\n",
       "      <th>41158</th>\n",
       "      <td>although the recent concerts of some of the bi...</td>\n",
       "      <td>0</td>\n",
       "      <td>345</td>\n",
       "    </tr>\n",
       "  </tbody>\n",
       "</table>\n",
       "</div>"
      ],
      "text/plain": [
       "                                                   lyric  class  lyric_len\n",
       "41158  although the recent concerts of some of the bi...      0        345"
      ]
     },
     "execution_count": 17,
     "metadata": {},
     "output_type": "execute_result"
    }
   ],
   "source": [
    "data.loc[data['lyric_len'] == max(data['lyric_len'])]"
   ]
  },
  {
   "cell_type": "code",
   "execution_count": 18,
   "id": "ab510634",
   "metadata": {},
   "outputs": [
    {
     "name": "stdout",
     "output_type": "stream",
     "text": [
      "lyric        cant drink without thinkin about you\n",
      "class                                           1\n",
      "lyric_len                                      36\n",
      "Name: 0, dtype: object\n"
     ]
    }
   ],
   "source": [
    "for row in data.iterrows():\n",
    "    print(row[1])\n",
    "    break"
   ]
  },
  {
   "cell_type": "markdown",
   "id": "8c172dde",
   "metadata": {},
   "source": [
    "The length of the texts are not symmetrical, so we need to pad the text."
   ]
  },
  {
   "cell_type": "code",
   "execution_count": 19,
   "id": "dd59fc80",
   "metadata": {},
   "outputs": [],
   "source": [
    "def pad_text(text, unk = '?', limit = 400):\n",
    "    if len(text) < limit:\n",
    "        text = text + unk*(limit - len(text))\n",
    "    else:\n",
    "        text = text[:limit-1]\n",
    "    return text"
   ]
  },
  {
   "cell_type": "code",
   "execution_count": 20,
   "id": "0b2941cb",
   "metadata": {},
   "outputs": [],
   "source": [
    "data['lyric'] = data['lyric'].apply(pad_text, **{\"limit\" : SEQ_LEN, \"unk\" : \"#\"})"
   ]
  },
  {
   "cell_type": "code",
   "execution_count": 21,
   "id": "3193c22f",
   "metadata": {},
   "outputs": [
    {
     "data": {
      "text/html": [
       "<div>\n",
       "<style scoped>\n",
       "    .dataframe tbody tr th:only-of-type {\n",
       "        vertical-align: middle;\n",
       "    }\n",
       "\n",
       "    .dataframe tbody tr th {\n",
       "        vertical-align: top;\n",
       "    }\n",
       "\n",
       "    .dataframe thead th {\n",
       "        text-align: right;\n",
       "    }\n",
       "</style>\n",
       "<table border=\"1\" class=\"dataframe\">\n",
       "  <thead>\n",
       "    <tr style=\"text-align: right;\">\n",
       "      <th></th>\n",
       "      <th>lyric</th>\n",
       "      <th>class</th>\n",
       "      <th>lyric_len</th>\n",
       "    </tr>\n",
       "  </thead>\n",
       "  <tbody>\n",
       "    <tr>\n",
       "      <th>0</th>\n",
       "      <td>cant drink without thinkin about you##########...</td>\n",
       "      <td>1</td>\n",
       "      <td>36</td>\n",
       "    </tr>\n",
       "    <tr>\n",
       "      <th>1</th>\n",
       "      <td>now lil pump flyin private jet yuh############...</td>\n",
       "      <td>0</td>\n",
       "      <td>34</td>\n",
       "    </tr>\n",
       "    <tr>\n",
       "      <th>2</th>\n",
       "      <td>no matter fact you aint help me when i had no ...</td>\n",
       "      <td>0</td>\n",
       "      <td>51</td>\n",
       "    </tr>\n",
       "    <tr>\n",
       "      <th>3</th>\n",
       "      <td>and you could find me i aint hidin############...</td>\n",
       "      <td>0</td>\n",
       "      <td>34</td>\n",
       "    </tr>\n",
       "    <tr>\n",
       "      <th>4</th>\n",
       "      <td>from the way you talk to the way you move#####...</td>\n",
       "      <td>1</td>\n",
       "      <td>41</td>\n",
       "    </tr>\n",
       "  </tbody>\n",
       "</table>\n",
       "</div>"
      ],
      "text/plain": [
       "                                               lyric  class  lyric_len\n",
       "0  cant drink without thinkin about you##########...      1         36\n",
       "1  now lil pump flyin private jet yuh############...      0         34\n",
       "2  no matter fact you aint help me when i had no ...      0         51\n",
       "3  and you could find me i aint hidin############...      0         34\n",
       "4  from the way you talk to the way you move#####...      1         41"
      ]
     },
     "execution_count": 21,
     "metadata": {},
     "output_type": "execute_result"
    }
   ],
   "source": [
    "data.head()"
   ]
  },
  {
   "cell_type": "code",
   "execution_count": 22,
   "id": "689977ff",
   "metadata": {},
   "outputs": [
    {
     "data": {
      "text/plain": [
       "'cant drink without thinkin about you############################################################################################################################################################################################################################################################################################################################################################################'"
      ]
     },
     "execution_count": 22,
     "metadata": {},
     "output_type": "execute_result"
    }
   ],
   "source": [
    "unidecode(data['lyric'][0])"
   ]
  },
  {
   "cell_type": "code",
   "execution_count": 23,
   "id": "08b89e65",
   "metadata": {},
   "outputs": [
    {
     "data": {
      "text/plain": [
       "{' ',\n",
       " '#',\n",
       " '0',\n",
       " '1',\n",
       " '2',\n",
       " '3',\n",
       " '4',\n",
       " '5',\n",
       " '6',\n",
       " '7',\n",
       " '8',\n",
       " '9',\n",
       " 'a',\n",
       " 'b',\n",
       " 'c',\n",
       " 'd',\n",
       " 'e',\n",
       " 'f',\n",
       " 'g',\n",
       " 'h',\n",
       " 'i',\n",
       " 'j',\n",
       " 'k',\n",
       " 'l',\n",
       " 'm',\n",
       " 'n',\n",
       " 'o',\n",
       " 'p',\n",
       " 'q',\n",
       " 'r',\n",
       " 's',\n",
       " 't',\n",
       " 'u',\n",
       " 'v',\n",
       " 'w',\n",
       " 'x',\n",
       " 'y',\n",
       " 'z'}"
      ]
     },
     "execution_count": 23,
     "metadata": {},
     "output_type": "execute_result"
    }
   ],
   "source": [
    "### Unique characters represented in the text\n",
    "set(''.join(data['lyric'].tolist()))"
   ]
  },
  {
   "cell_type": "code",
   "execution_count": 24,
   "id": "ec366bf7",
   "metadata": {},
   "outputs": [],
   "source": [
    "### Account for space and trhe unknown token (#)\n",
    "all_char = '#' + ' ' + all_char"
   ]
  },
  {
   "cell_type": "code",
   "execution_count": 25,
   "id": "e2a0aab4",
   "metadata": {},
   "outputs": [
    {
     "data": {
      "text/plain": [
       "'# abcdefghijklmnopqrstuvwxyz0123456789'"
      ]
     },
     "execution_count": 25,
     "metadata": {},
     "output_type": "execute_result"
    }
   ],
   "source": [
    "all_char"
   ]
  },
  {
   "cell_type": "code",
   "execution_count": 26,
   "id": "1680765d",
   "metadata": {},
   "outputs": [],
   "source": [
    "char_dict = dict(enumerate(all_char, start = 0))\n",
    "char_dict = {v: k for k, v in char_dict.items()}"
   ]
  },
  {
   "cell_type": "code",
   "execution_count": 27,
   "id": "f44021e7",
   "metadata": {},
   "outputs": [
    {
     "data": {
      "text/plain": [
       "{'#': 0,\n",
       " ' ': 1,\n",
       " 'a': 2,\n",
       " 'b': 3,\n",
       " 'c': 4,\n",
       " 'd': 5,\n",
       " 'e': 6,\n",
       " 'f': 7,\n",
       " 'g': 8,\n",
       " 'h': 9,\n",
       " 'i': 10,\n",
       " 'j': 11,\n",
       " 'k': 12,\n",
       " 'l': 13,\n",
       " 'm': 14,\n",
       " 'n': 15,\n",
       " 'o': 16,\n",
       " 'p': 17,\n",
       " 'q': 18,\n",
       " 'r': 19,\n",
       " 's': 20,\n",
       " 't': 21,\n",
       " 'u': 22,\n",
       " 'v': 23,\n",
       " 'w': 24,\n",
       " 'x': 25,\n",
       " 'y': 26,\n",
       " 'z': 27,\n",
       " '0': 28,\n",
       " '1': 29,\n",
       " '2': 30,\n",
       " '3': 31,\n",
       " '4': 32,\n",
       " '5': 33,\n",
       " '6': 34,\n",
       " '7': 35,\n",
       " '8': 36,\n",
       " '9': 37}"
      ]
     },
     "execution_count": 27,
     "metadata": {},
     "output_type": "execute_result"
    }
   ],
   "source": [
    "char_dict"
   ]
  },
  {
   "cell_type": "code",
   "execution_count": 28,
   "id": "405495e3",
   "metadata": {},
   "outputs": [],
   "source": [
    "class TextDataset(Dataset):\n",
    "    def __init__(self, file):\n",
    "        self.file = file\n",
    "        self.texts = self.file['lyric']\n",
    "        self.labels = self.file['class']\n",
    "    def __len__(self):\n",
    "        return len(self.labels)\n",
    "    def __getitem__(self, ix):\n",
    "        return torch.tensor([char_dict[c] for c in unidecode(self.texts[ix])]), self.labels[ix]"
   ]
  },
  {
   "cell_type": "code",
   "execution_count": 29,
   "id": "334fd654",
   "metadata": {},
   "outputs": [],
   "source": [
    "text_data = TextDataset(data)"
   ]
  },
  {
   "cell_type": "code",
   "execution_count": 30,
   "id": "b6815da9",
   "metadata": {},
   "outputs": [
    {
     "data": {
      "text/plain": [
       "51054"
      ]
     },
     "execution_count": 30,
     "metadata": {},
     "output_type": "execute_result"
    }
   ],
   "source": [
    "len(text_data)"
   ]
  },
  {
   "cell_type": "code",
   "execution_count": 31,
   "id": "a01e97dd",
   "metadata": {},
   "outputs": [
    {
     "data": {
      "text/plain": [
       "0        cant drink without thinkin about you##########...\n",
       "1        now lil pump flyin private jet yuh############...\n",
       "2        no matter fact you aint help me when i had no ...\n",
       "3        and you could find me i aint hidin############...\n",
       "4        from the way you talk to the way you move#####...\n",
       "                               ...                        \n",
       "51049    i told her pour me some more then she went rig...\n",
       "51050    hit the ground and crawl to the dresser#######...\n",
       "51051    just keep breathin and breathin and breathin a...\n",
       "51052    down go the system long live the king king####...\n",
       "51053    if your mother knew all the things we do from ...\n",
       "Name: lyric, Length: 51054, dtype: object"
      ]
     },
     "execution_count": 31,
     "metadata": {},
     "output_type": "execute_result"
    }
   ],
   "source": [
    "text_data.texts"
   ]
  },
  {
   "cell_type": "code",
   "execution_count": 32,
   "id": "9989b786",
   "metadata": {},
   "outputs": [
    {
     "data": {
      "text/plain": [
       "(tensor([ 4,  2, 15, 21,  1,  5, 19, 10, 15, 12,  1, 24, 10, 21,  9, 16, 22, 21,\n",
       "          1, 21,  9, 10, 15, 12, 10, 15,  1,  2,  3, 16, 22, 21,  1, 26, 16, 22,\n",
       "          0,  0,  0,  0,  0,  0,  0,  0,  0,  0,  0,  0,  0,  0,  0,  0,  0,  0,\n",
       "          0,  0,  0,  0,  0,  0,  0,  0,  0,  0,  0,  0,  0,  0,  0,  0,  0,  0,\n",
       "          0,  0,  0,  0,  0,  0,  0,  0,  0,  0,  0,  0,  0,  0,  0,  0,  0,  0,\n",
       "          0,  0,  0,  0,  0,  0,  0,  0,  0,  0,  0,  0,  0,  0,  0,  0,  0,  0,\n",
       "          0,  0,  0,  0,  0,  0,  0,  0,  0,  0,  0,  0,  0,  0,  0,  0,  0,  0,\n",
       "          0,  0,  0,  0,  0,  0,  0,  0,  0,  0,  0,  0,  0,  0,  0,  0,  0,  0,\n",
       "          0,  0,  0,  0,  0,  0,  0,  0,  0,  0,  0,  0,  0,  0,  0,  0,  0,  0,\n",
       "          0,  0,  0,  0,  0,  0,  0,  0,  0,  0,  0,  0,  0,  0,  0,  0,  0,  0,\n",
       "          0,  0,  0,  0,  0,  0,  0,  0,  0,  0,  0,  0,  0,  0,  0,  0,  0,  0,\n",
       "          0,  0,  0,  0,  0,  0,  0,  0,  0,  0,  0,  0,  0,  0,  0,  0,  0,  0,\n",
       "          0,  0,  0,  0,  0,  0,  0,  0,  0,  0,  0,  0,  0,  0,  0,  0,  0,  0,\n",
       "          0,  0,  0,  0,  0,  0,  0,  0,  0,  0,  0,  0,  0,  0,  0,  0,  0,  0,\n",
       "          0,  0,  0,  0,  0,  0,  0,  0,  0,  0,  0,  0,  0,  0,  0,  0,  0,  0,\n",
       "          0,  0,  0,  0,  0,  0,  0,  0,  0,  0,  0,  0,  0,  0,  0,  0,  0,  0,\n",
       "          0,  0,  0,  0,  0,  0,  0,  0,  0,  0,  0,  0,  0,  0,  0,  0,  0,  0,\n",
       "          0,  0,  0,  0,  0,  0,  0,  0,  0,  0,  0,  0,  0,  0,  0,  0,  0,  0,\n",
       "          0,  0,  0,  0,  0,  0,  0,  0,  0,  0,  0,  0,  0,  0,  0,  0,  0,  0,\n",
       "          0,  0,  0,  0,  0,  0,  0,  0,  0,  0,  0,  0,  0,  0,  0,  0,  0,  0,\n",
       "          0,  0,  0,  0,  0,  0,  0,  0,  0,  0,  0,  0,  0,  0,  0,  0,  0,  0,\n",
       "          0,  0,  0,  0,  0,  0,  0,  0,  0,  0,  0,  0,  0,  0,  0,  0,  0,  0,\n",
       "          0,  0,  0,  0]),\n",
       " 1)"
      ]
     },
     "execution_count": 32,
     "metadata": {},
     "output_type": "execute_result"
    }
   ],
   "source": [
    "next(iter(text_data))"
   ]
  },
  {
   "cell_type": "code",
   "execution_count": 33,
   "id": "39f14852",
   "metadata": {},
   "outputs": [],
   "source": [
    "train_ds, test_ds = torch.utils.data.random_split(text_data, lengths = [len(text_data) - 5000, 5000])"
   ]
  },
  {
   "cell_type": "code",
   "execution_count": 34,
   "id": "5ac0f033",
   "metadata": {},
   "outputs": [
    {
     "data": {
      "text/plain": [
       "46054"
      ]
     },
     "execution_count": 34,
     "metadata": {},
     "output_type": "execute_result"
    }
   ],
   "source": [
    "len(train_ds)"
   ]
  },
  {
   "cell_type": "code",
   "execution_count": 35,
   "id": "a068f105",
   "metadata": {},
   "outputs": [
    {
     "data": {
      "text/plain": [
       "5000"
      ]
     },
     "execution_count": 35,
     "metadata": {},
     "output_type": "execute_result"
    }
   ],
   "source": [
    "len(test_ds)"
   ]
  },
  {
   "cell_type": "code",
   "execution_count": 36,
   "id": "73aa5687",
   "metadata": {},
   "outputs": [],
   "source": [
    "train_dl = DataLoader(train_ds, batch_size = BATCH_SIZE, shuffle = False, drop_last = True)"
   ]
  },
  {
   "cell_type": "code",
   "execution_count": 37,
   "id": "e63e9307",
   "metadata": {},
   "outputs": [],
   "source": [
    "test_dl = DataLoader(test_ds, batch_size = BATCH_SIZE, shuffle = False, drop_last = True)"
   ]
  },
  {
   "cell_type": "code",
   "execution_count": 38,
   "id": "27f3c8a2",
   "metadata": {},
   "outputs": [
    {
     "data": {
      "text/plain": [
       "[tensor([[ 5, 16, 15,  ...,  0,  0,  0],\n",
       "         [ 7,  2,  4,  ...,  0,  0,  0],\n",
       "         [10,  1, 12,  ...,  0,  0,  0],\n",
       "         ...,\n",
       "         [14,  2, 26,  ...,  0,  0,  0],\n",
       "         [16, 15, 13,  ...,  0,  0,  0],\n",
       "         [24,  9,  2,  ...,  0,  0,  0]]),\n",
       " tensor([0, 0, 0, 0, 1, 1, 0, 0, 1, 0, 0, 0, 1, 0, 0, 0, 0, 1, 1, 1, 0, 0, 0, 0,\n",
       "         1, 1, 1, 1, 0, 0, 1, 1])]"
      ]
     },
     "execution_count": 38,
     "metadata": {},
     "output_type": "execute_result"
    }
   ],
   "source": [
    "next(iter(test_dl))"
   ]
  },
  {
   "cell_type": "code",
   "execution_count": 39,
   "id": "b9bdc2da",
   "metadata": {},
   "outputs": [],
   "source": [
    "class LyricModel(nn.Module):\n",
    "    def __init__(self, batch_size = 32, num_layers = 2, bidirectional = True, hidden_size = 128, length = 64):\n",
    "        self.hidden = hidden_size\n",
    "        self.batch_size = batch_size\n",
    "        self.length = length\n",
    "        self.num_layers = num_layers\n",
    "        self.bidirectional = bidirectional\n",
    "        \n",
    "        super(LyricModel, self).__init__()\n",
    "        \n",
    "        self.embedder = nn.Embedding(num_embeddings = len(char_dict), embedding_dim = self.length)\n",
    "        \n",
    "        self.linear1 = nn.Linear(self.length, self.length//2)\n",
    "        self.linear2 = nn.Linear(self.length//2, 1)\n",
    "        self.linear3 = nn.Linear(SEQ_LEN, 1)\n",
    "        \n",
    "    def forward(self, x):\n",
    "        y = self.embedder(x)\n",
    "        y = F.relu(self.linear1(y))\n",
    "        y = F.relu(self.linear2(y))\n",
    "        y = y.view(-1, SEQ_LEN)\n",
    "        return self.linear3(y)"
   ]
  },
  {
   "cell_type": "code",
   "execution_count": 40,
   "id": "d21bf947",
   "metadata": {},
   "outputs": [],
   "source": [
    "model = LyricModel(batch_size = BATCH_SIZE)"
   ]
  },
  {
   "cell_type": "code",
   "execution_count": 41,
   "id": "c2fafc02",
   "metadata": {},
   "outputs": [],
   "source": [
    "EPOCHS = 25\n",
    "lr = 1e-3\n",
    "betas = (0.9, 0.999)"
   ]
  },
  {
   "cell_type": "code",
   "execution_count": 42,
   "id": "322b86dd",
   "metadata": {},
   "outputs": [],
   "source": [
    "opt = optim.Adam(params = model.parameters(), lr = lr, betas = betas)"
   ]
  },
  {
   "cell_type": "code",
   "execution_count": 43,
   "id": "e627142b",
   "metadata": {},
   "outputs": [],
   "source": [
    "criterion = nn.BCEWithLogitsLoss()"
   ]
  },
  {
   "cell_type": "code",
   "execution_count": 44,
   "id": "a65e0761",
   "metadata": {
    "scrolled": true
   },
   "outputs": [
    {
     "name": "stdout",
     "output_type": "stream",
     "text": [
      "Epoch [1/25]\n",
      "\tIteration [1439/1439]\n",
      "\t\tTrain loss :  0.647 || Test loss :  0.641\n",
      "\t\tTrain acc :  0.572 || Test acc :  0.572\n",
      "Epoch [2/25]\n",
      "\tIteration [1439/1439]\n",
      "\t\tTrain loss :  0.637 || Test loss :  0.636\n",
      "\t\tTrain acc :  0.574 || Test acc :  0.578\n",
      "Epoch [3/25]\n",
      "\tIteration [1439/1439]\n",
      "\t\tTrain loss :  0.633 || Test loss :  0.633\n",
      "\t\tTrain acc :  0.582 || Test acc :  0.589\n",
      "Epoch [4/25]\n",
      "\tIteration [1439/1439]\n",
      "\t\tTrain loss :  0.631 || Test loss :  0.632\n",
      "\t\tTrain acc :  0.591 || Test acc :  0.596\n",
      "Epoch [5/25]\n",
      "\tIteration [1439/1439]\n",
      "\t\tTrain loss :  0.629 || Test loss :  0.631\n",
      "\t\tTrain acc :  0.598 || Test acc :  0.598\n",
      "Epoch [6/25]\n",
      "\tIteration [1439/1439]\n",
      "\t\tTrain loss :  0.629 || Test loss :  0.630\n",
      "\t\tTrain acc :  0.603 || Test acc :  0.600\n",
      "Epoch [7/25]\n",
      "\tIteration [1439/1439]\n",
      "\t\tTrain loss :  0.628 || Test loss :  0.630\n",
      "\t\tTrain acc :  0.607 || Test acc :  0.603\n",
      "Epoch [8/25]\n",
      "\tIteration [1439/1439]\n",
      "\t\tTrain loss :  0.628 || Test loss :  0.630\n",
      "\t\tTrain acc :  0.609 || Test acc :  0.605\n",
      "Epoch [9/25]\n",
      "\tIteration [1439/1439]\n",
      "\t\tTrain loss :  0.628 || Test loss :  0.630\n",
      "\t\tTrain acc :  0.611 || Test acc :  0.605\n",
      "Epoch [10/25]\n",
      "\tIteration [1439/1439]\n",
      "\t\tTrain loss :  0.628 || Test loss :  0.630\n",
      "\t\tTrain acc :  0.612 || Test acc :  0.606\n",
      "Epoch [11/25]\n",
      "\tIteration [1439/1439]\n",
      "\t\tTrain loss :  0.627 || Test loss :  0.630\n",
      "\t\tTrain acc :  0.613 || Test acc :  0.606\n",
      "Epoch [12/25]\n",
      "\tIteration [1439/1439]\n",
      "\t\tTrain loss :  0.627 || Test loss :  0.630\n",
      "\t\tTrain acc :  0.614 || Test acc :  0.606\n",
      "Epoch [13/25]\n",
      "\tIteration [1439/1439]\n",
      "\t\tTrain loss :  0.627 || Test loss :  0.630\n",
      "\t\tTrain acc :  0.614 || Test acc :  0.608\n",
      "Epoch [14/25]\n",
      "\tIteration [1439/1439]\n",
      "\t\tTrain loss :  0.627 || Test loss :  0.630\n",
      "\t\tTrain acc :  0.614 || Test acc :  0.608\n",
      "Epoch [15/25]\n",
      "\tIteration [1439/1439]\n",
      "\t\tTrain loss :  0.627 || Test loss :  0.631\n",
      "\t\tTrain acc :  0.615 || Test acc :  0.608\n",
      "Epoch [16/25]\n",
      "\tIteration [1439/1439]\n",
      "\t\tTrain loss :  0.627 || Test loss :  0.631\n",
      "\t\tTrain acc :  0.615 || Test acc :  0.609\n",
      "Epoch [17/25]\n",
      "\tIteration [1439/1439]\n",
      "\t\tTrain loss :  0.627 || Test loss :  0.631\n",
      "\t\tTrain acc :  0.615 || Test acc :  0.608\n",
      "Epoch [18/25]\n",
      "\tIteration [1439/1439]\n",
      "\t\tTrain loss :  0.627 || Test loss :  0.631\n",
      "\t\tTrain acc :  0.615 || Test acc :  0.609\n",
      "Epoch [19/25]\n",
      "\tIteration [1439/1439]\n",
      "\t\tTrain loss :  0.627 || Test loss :  0.631\n",
      "\t\tTrain acc :  0.615 || Test acc :  0.609\n",
      "Epoch [20/25]\n",
      "\tIteration [1439/1439]\n",
      "\t\tTrain loss :  0.627 || Test loss :  0.631\n",
      "\t\tTrain acc :  0.615 || Test acc :  0.608\n",
      "Epoch [21/25]\n",
      "\tIteration [1439/1439]\n",
      "\t\tTrain loss :  0.627 || Test loss :  0.631\n",
      "\t\tTrain acc :  0.616 || Test acc :  0.609\n",
      "Epoch [22/25]\n",
      "\tIteration [1439/1439]\n",
      "\t\tTrain loss :  0.627 || Test loss :  0.631\n",
      "\t\tTrain acc :  0.616 || Test acc :  0.609\n",
      "Epoch [23/25]\n",
      "\tIteration [1439/1439]\n",
      "\t\tTrain loss :  0.627 || Test loss :  0.631\n",
      "\t\tTrain acc :  0.616 || Test acc :  0.609\n",
      "Epoch [24/25]\n",
      "\tIteration [1439/1439]\n",
      "\t\tTrain loss :  0.627 || Test loss :  0.631\n",
      "\t\tTrain acc :  0.616 || Test acc :  0.609\n",
      "Epoch [25/25]\n",
      "\tIteration [1439/1439]\n",
      "\t\tTrain loss :  0.627 || Test loss :  0.631\n",
      "\t\tTrain acc :  0.616 || Test acc :  0.609\n"
     ]
    }
   ],
   "source": [
    "for epoch in range(1, EPOCHS + 1):\n",
    "    train_losses = 0\n",
    "    train_accs = 0\n",
    "    for i, (X, y) in enumerate(train_dl, start = 1):\n",
    "        opt.zero_grad()\n",
    "        pred = model(X)\n",
    "        loss = criterion(pred.squeeze(), y.float())\n",
    "        loss.backward()\n",
    "        opt.step()\n",
    "        train_losses += loss.item()\n",
    "        train_accs += torch.sum(torch.where(pred > 0.5, 1, 0).squeeze() == y)/len(y)\n",
    "        \n",
    "        if (i == len(train_dl)):\n",
    "            train_loss = train_losses/len(train_dl)\n",
    "            train_acc = train_accs/len(train_dl)\n",
    "            \n",
    "            test_losses = 0\n",
    "            test_accs = 0\n",
    "            \n",
    "            with torch.no_grad():\n",
    "                for X_test, y_test in test_dl:\n",
    "                    test_pred = model(X_test)\n",
    "                    test_loss = criterion(test_pred.squeeze(), y_test.float())\n",
    "                    test_losses += test_loss.item()\n",
    "                    test_accs += torch.sum(torch.where(test_pred > 0.5, 1, 0).squeeze() == y_test)/len(y_test)\n",
    "                \n",
    "                test_loss = test_losses/len(test_dl)\n",
    "                test_acc = test_accs/len(test_dl)\n",
    "                \n",
    "            print(f\"Epoch [{epoch}/{EPOCHS}]\")\n",
    "            print(f\"\\tIteration [{i}/{len(train_dl)}]\")\n",
    "            print(f\"\\t\\tTrain loss : {train_loss: .3f} || Test loss : {test_loss: .3f}\")\n",
    "            print(f\"\\t\\tTrain acc : {train_acc: .3f} || Test acc : {test_acc: .3f}\")"
   ]
  },
  {
   "cell_type": "code",
   "execution_count": null,
   "id": "a1c0d7fb",
   "metadata": {},
   "outputs": [],
   "source": []
  }
 ],
 "metadata": {
  "kernelspec": {
   "display_name": "Python 3 (ipykernel)",
   "language": "python",
   "name": "python3"
  },
  "language_info": {
   "codemirror_mode": {
    "name": "ipython",
    "version": 3
   },
   "file_extension": ".py",
   "mimetype": "text/x-python",
   "name": "python",
   "nbconvert_exporter": "python",
   "pygments_lexer": "ipython3",
   "version": "3.9.12"
  }
 },
 "nbformat": 4,
 "nbformat_minor": 5
}
