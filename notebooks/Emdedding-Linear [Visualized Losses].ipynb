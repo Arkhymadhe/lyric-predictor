{
 "cells": [
  {
   "cell_type": "markdown",
   "id": "a4f7b740",
   "metadata": {},
   "source": [
    "Steps:\n",
    "\n",
    "1. Load the data.\n",
    "2. Cast text to lower case.\n",
    "3. Eliminate punctuation.\n",
    "4. Get the maximum number of tokens in the data.\n",
    "5. Tokenize the data."
   ]
  },
  {
   "cell_type": "code",
   "execution_count": 1,
   "id": "f96de916",
   "metadata": {},
   "outputs": [],
   "source": [
    "import string\n",
    "import os\n",
    "import matplotlib.pyplot as plt\n",
    "from jupyterthemes import jtplot\n",
    "\n",
    "import pandas as pd\n",
    "import numpy as np\n",
    "\n",
    "import torch\n",
    "from torch import nn\n",
    "from torch import optim\n",
    "from torch.utils.data import Dataset, DataLoader\n",
    "from torch.nn import functional as F\n",
    "\n",
    "from unidecode import unidecode"
   ]
  },
  {
   "cell_type": "code",
   "execution_count": 2,
   "id": "84524274",
   "metadata": {},
   "outputs": [],
   "source": [
    "device = torch.device('cuda') if torch.cuda.is_available() else torch.device('cpu')"
   ]
  },
  {
   "cell_type": "code",
   "execution_count": 3,
   "id": "faed2213",
   "metadata": {},
   "outputs": [
    {
     "data": {
      "text/plain": [
       "device(type='cuda')"
      ]
     },
     "execution_count": 3,
     "metadata": {},
     "output_type": "execute_result"
    }
   ],
   "source": [
    "device"
   ]
  },
  {
   "cell_type": "code",
   "execution_count": 4,
   "id": "7a2db58d",
   "metadata": {},
   "outputs": [],
   "source": [
    "jtplot.style('gruvboxd')"
   ]
  },
  {
   "cell_type": "code",
   "execution_count": 5,
   "id": "424136de",
   "metadata": {},
   "outputs": [],
   "source": [
    "### Reproducibility\n",
    "torch.manual_seed(42)\n",
    "os.environ['PYTHONHASHSEED'] = str(42)"
   ]
  },
  {
   "cell_type": "code",
   "execution_count": 6,
   "id": "1427d1ad",
   "metadata": {},
   "outputs": [],
   "source": [
    "BATCH_SIZE = 32\n",
    "SEQ_LEN = 400"
   ]
  },
  {
   "cell_type": "code",
   "execution_count": 7,
   "id": "53a0f2d8",
   "metadata": {},
   "outputs": [],
   "source": [
    "DATA_PATH = os.path.join(os.getcwd().replace('notebooks', 'data'), 'train.csv')"
   ]
  },
  {
   "cell_type": "code",
   "execution_count": 8,
   "id": "f82b4ce3",
   "metadata": {},
   "outputs": [],
   "source": [
    "data = pd.read_csv(DATA_PATH)"
   ]
  },
  {
   "cell_type": "code",
   "execution_count": 9,
   "id": "8c8fa0fe",
   "metadata": {},
   "outputs": [
    {
     "data": {
      "text/html": [
       "<div>\n",
       "<style scoped>\n",
       "    .dataframe tbody tr th:only-of-type {\n",
       "        vertical-align: middle;\n",
       "    }\n",
       "\n",
       "    .dataframe tbody tr th {\n",
       "        vertical-align: top;\n",
       "    }\n",
       "\n",
       "    .dataframe thead th {\n",
       "        text-align: right;\n",
       "    }\n",
       "</style>\n",
       "<table border=\"1\" class=\"dataframe\">\n",
       "  <thead>\n",
       "    <tr style=\"text-align: right;\">\n",
       "      <th></th>\n",
       "      <th>lyric</th>\n",
       "      <th>class</th>\n",
       "    </tr>\n",
       "  </thead>\n",
       "  <tbody>\n",
       "    <tr>\n",
       "      <th>0</th>\n",
       "      <td>Can't drink without thinkin' about you</td>\n",
       "      <td>1</td>\n",
       "    </tr>\n",
       "    <tr>\n",
       "      <th>1</th>\n",
       "      <td>Now Lil Pump flyin' private jet (Yuh)</td>\n",
       "      <td>0</td>\n",
       "    </tr>\n",
       "    <tr>\n",
       "      <th>2</th>\n",
       "      <td>No, matter fact, you ain't help me when I had ...</td>\n",
       "      <td>0</td>\n",
       "    </tr>\n",
       "    <tr>\n",
       "      <th>3</th>\n",
       "      <td>And you could find me, I ain't hidin'</td>\n",
       "      <td>0</td>\n",
       "    </tr>\n",
       "    <tr>\n",
       "      <th>4</th>\n",
       "      <td>From the way you talk to the way you move</td>\n",
       "      <td>1</td>\n",
       "    </tr>\n",
       "  </tbody>\n",
       "</table>\n",
       "</div>"
      ],
      "text/plain": [
       "                                               lyric  class\n",
       "0             Can't drink without thinkin' about you      1\n",
       "1              Now Lil Pump flyin' private jet (Yuh)      0\n",
       "2  No, matter fact, you ain't help me when I had ...      0\n",
       "3              And you could find me, I ain't hidin'      0\n",
       "4          From the way you talk to the way you move      1"
      ]
     },
     "execution_count": 9,
     "metadata": {},
     "output_type": "execute_result"
    }
   ],
   "source": [
    "data.head()"
   ]
  },
  {
   "cell_type": "code",
   "execution_count": 10,
   "id": "d08dd48b",
   "metadata": {},
   "outputs": [],
   "source": [
    "data['lyric'] = data['lyric'].str.lower()"
   ]
  },
  {
   "cell_type": "code",
   "execution_count": 11,
   "id": "7062b54d",
   "metadata": {},
   "outputs": [
    {
     "data": {
      "text/html": [
       "<div>\n",
       "<style scoped>\n",
       "    .dataframe tbody tr th:only-of-type {\n",
       "        vertical-align: middle;\n",
       "    }\n",
       "\n",
       "    .dataframe tbody tr th {\n",
       "        vertical-align: top;\n",
       "    }\n",
       "\n",
       "    .dataframe thead th {\n",
       "        text-align: right;\n",
       "    }\n",
       "</style>\n",
       "<table border=\"1\" class=\"dataframe\">\n",
       "  <thead>\n",
       "    <tr style=\"text-align: right;\">\n",
       "      <th></th>\n",
       "      <th>lyric</th>\n",
       "      <th>class</th>\n",
       "    </tr>\n",
       "  </thead>\n",
       "  <tbody>\n",
       "    <tr>\n",
       "      <th>0</th>\n",
       "      <td>can't drink without thinkin' about you</td>\n",
       "      <td>1</td>\n",
       "    </tr>\n",
       "    <tr>\n",
       "      <th>1</th>\n",
       "      <td>now lil pump flyin' private jet (yuh)</td>\n",
       "      <td>0</td>\n",
       "    </tr>\n",
       "    <tr>\n",
       "      <th>2</th>\n",
       "      <td>no, matter fact, you ain't help me when i had ...</td>\n",
       "      <td>0</td>\n",
       "    </tr>\n",
       "    <tr>\n",
       "      <th>3</th>\n",
       "      <td>and you could find me, i ain't hidin'</td>\n",
       "      <td>0</td>\n",
       "    </tr>\n",
       "    <tr>\n",
       "      <th>4</th>\n",
       "      <td>from the way you talk to the way you move</td>\n",
       "      <td>1</td>\n",
       "    </tr>\n",
       "  </tbody>\n",
       "</table>\n",
       "</div>"
      ],
      "text/plain": [
       "                                               lyric  class\n",
       "0             can't drink without thinkin' about you      1\n",
       "1              now lil pump flyin' private jet (yuh)      0\n",
       "2  no, matter fact, you ain't help me when i had ...      0\n",
       "3              and you could find me, i ain't hidin'      0\n",
       "4          from the way you talk to the way you move      1"
      ]
     },
     "execution_count": 11,
     "metadata": {},
     "output_type": "execute_result"
    }
   ],
   "source": [
    "data.head()"
   ]
  },
  {
   "cell_type": "code",
   "execution_count": 12,
   "id": "95d975bf",
   "metadata": {},
   "outputs": [],
   "source": [
    "def clear_punctuation(text):\n",
    "    text = ''.join([char for char in text if char not in all_punct])\n",
    "    return text"
   ]
  },
  {
   "cell_type": "code",
   "execution_count": 13,
   "id": "ad9fc833",
   "metadata": {},
   "outputs": [],
   "source": [
    "all_char = string.ascii_lowercase + string.digits"
   ]
  },
  {
   "cell_type": "code",
   "execution_count": 14,
   "id": "2fad7ff8",
   "metadata": {},
   "outputs": [
    {
     "data": {
      "text/plain": [
       "'abcdefghijklmnopqrstuvwxyz0123456789'"
      ]
     },
     "execution_count": 14,
     "metadata": {},
     "output_type": "execute_result"
    }
   ],
   "source": [
    "all_char"
   ]
  },
  {
   "cell_type": "code",
   "execution_count": 15,
   "id": "1c87ad24",
   "metadata": {},
   "outputs": [],
   "source": [
    "all_punct = string.punctuation"
   ]
  },
  {
   "cell_type": "code",
   "execution_count": 16,
   "id": "19746830",
   "metadata": {},
   "outputs": [
    {
     "data": {
      "text/plain": [
       "'!\"#$%&\\'()*+,-./:;<=>?@[\\\\]^_`{|}~'"
      ]
     },
     "execution_count": 16,
     "metadata": {},
     "output_type": "execute_result"
    }
   ],
   "source": [
    "all_punct"
   ]
  },
  {
   "cell_type": "code",
   "execution_count": 17,
   "id": "e5f072e4",
   "metadata": {},
   "outputs": [],
   "source": [
    "data['lyric'] = data['lyric'].apply(clear_punctuation)"
   ]
  },
  {
   "cell_type": "code",
   "execution_count": 18,
   "id": "ea2fc143",
   "metadata": {},
   "outputs": [
    {
     "data": {
      "text/html": [
       "<div>\n",
       "<style scoped>\n",
       "    .dataframe tbody tr th:only-of-type {\n",
       "        vertical-align: middle;\n",
       "    }\n",
       "\n",
       "    .dataframe tbody tr th {\n",
       "        vertical-align: top;\n",
       "    }\n",
       "\n",
       "    .dataframe thead th {\n",
       "        text-align: right;\n",
       "    }\n",
       "</style>\n",
       "<table border=\"1\" class=\"dataframe\">\n",
       "  <thead>\n",
       "    <tr style=\"text-align: right;\">\n",
       "      <th></th>\n",
       "      <th>lyric</th>\n",
       "      <th>class</th>\n",
       "    </tr>\n",
       "  </thead>\n",
       "  <tbody>\n",
       "    <tr>\n",
       "      <th>0</th>\n",
       "      <td>cant drink without thinkin about you</td>\n",
       "      <td>1</td>\n",
       "    </tr>\n",
       "    <tr>\n",
       "      <th>1</th>\n",
       "      <td>now lil pump flyin private jet yuh</td>\n",
       "      <td>0</td>\n",
       "    </tr>\n",
       "    <tr>\n",
       "      <th>2</th>\n",
       "      <td>no matter fact you aint help me when i had no ...</td>\n",
       "      <td>0</td>\n",
       "    </tr>\n",
       "    <tr>\n",
       "      <th>3</th>\n",
       "      <td>and you could find me i aint hidin</td>\n",
       "      <td>0</td>\n",
       "    </tr>\n",
       "    <tr>\n",
       "      <th>4</th>\n",
       "      <td>from the way you talk to the way you move</td>\n",
       "      <td>1</td>\n",
       "    </tr>\n",
       "  </tbody>\n",
       "</table>\n",
       "</div>"
      ],
      "text/plain": [
       "                                               lyric  class\n",
       "0               cant drink without thinkin about you      1\n",
       "1                 now lil pump flyin private jet yuh      0\n",
       "2  no matter fact you aint help me when i had no ...      0\n",
       "3                 and you could find me i aint hidin      0\n",
       "4          from the way you talk to the way you move      1"
      ]
     },
     "execution_count": 18,
     "metadata": {},
     "output_type": "execute_result"
    }
   ],
   "source": [
    "data.head()"
   ]
  },
  {
   "cell_type": "code",
   "execution_count": 19,
   "id": "44969eef",
   "metadata": {},
   "outputs": [],
   "source": [
    "data['lyric_len'] = data['lyric'].apply(len)"
   ]
  },
  {
   "cell_type": "code",
   "execution_count": 20,
   "id": "d3c66a7a",
   "metadata": {},
   "outputs": [
    {
     "data": {
      "text/html": [
       "<div>\n",
       "<style scoped>\n",
       "    .dataframe tbody tr th:only-of-type {\n",
       "        vertical-align: middle;\n",
       "    }\n",
       "\n",
       "    .dataframe tbody tr th {\n",
       "        vertical-align: top;\n",
       "    }\n",
       "\n",
       "    .dataframe thead th {\n",
       "        text-align: right;\n",
       "    }\n",
       "</style>\n",
       "<table border=\"1\" class=\"dataframe\">\n",
       "  <thead>\n",
       "    <tr style=\"text-align: right;\">\n",
       "      <th></th>\n",
       "      <th>lyric</th>\n",
       "      <th>class</th>\n",
       "      <th>lyric_len</th>\n",
       "    </tr>\n",
       "  </thead>\n",
       "  <tbody>\n",
       "    <tr>\n",
       "      <th>0</th>\n",
       "      <td>cant drink without thinkin about you</td>\n",
       "      <td>1</td>\n",
       "      <td>36</td>\n",
       "    </tr>\n",
       "    <tr>\n",
       "      <th>1</th>\n",
       "      <td>now lil pump flyin private jet yuh</td>\n",
       "      <td>0</td>\n",
       "      <td>34</td>\n",
       "    </tr>\n",
       "    <tr>\n",
       "      <th>2</th>\n",
       "      <td>no matter fact you aint help me when i had no ...</td>\n",
       "      <td>0</td>\n",
       "      <td>51</td>\n",
       "    </tr>\n",
       "    <tr>\n",
       "      <th>3</th>\n",
       "      <td>and you could find me i aint hidin</td>\n",
       "      <td>0</td>\n",
       "      <td>34</td>\n",
       "    </tr>\n",
       "    <tr>\n",
       "      <th>4</th>\n",
       "      <td>from the way you talk to the way you move</td>\n",
       "      <td>1</td>\n",
       "      <td>41</td>\n",
       "    </tr>\n",
       "  </tbody>\n",
       "</table>\n",
       "</div>"
      ],
      "text/plain": [
       "                                               lyric  class  lyric_len\n",
       "0               cant drink without thinkin about you      1         36\n",
       "1                 now lil pump flyin private jet yuh      0         34\n",
       "2  no matter fact you aint help me when i had no ...      0         51\n",
       "3                 and you could find me i aint hidin      0         34\n",
       "4          from the way you talk to the way you move      1         41"
      ]
     },
     "execution_count": 20,
     "metadata": {},
     "output_type": "execute_result"
    }
   ],
   "source": [
    "data.head()"
   ]
  },
  {
   "cell_type": "code",
   "execution_count": 21,
   "id": "0c7c178a",
   "metadata": {},
   "outputs": [
    {
     "data": {
      "text/html": [
       "<div>\n",
       "<style scoped>\n",
       "    .dataframe tbody tr th:only-of-type {\n",
       "        vertical-align: middle;\n",
       "    }\n",
       "\n",
       "    .dataframe tbody tr th {\n",
       "        vertical-align: top;\n",
       "    }\n",
       "\n",
       "    .dataframe thead th {\n",
       "        text-align: right;\n",
       "    }\n",
       "</style>\n",
       "<table border=\"1\" class=\"dataframe\">\n",
       "  <thead>\n",
       "    <tr style=\"text-align: right;\">\n",
       "      <th></th>\n",
       "      <th>lyric</th>\n",
       "      <th>class</th>\n",
       "      <th>lyric_len</th>\n",
       "    </tr>\n",
       "  </thead>\n",
       "  <tbody>\n",
       "    <tr>\n",
       "      <th>41158</th>\n",
       "      <td>although the recent concerts of some of the bi...</td>\n",
       "      <td>0</td>\n",
       "      <td>345</td>\n",
       "    </tr>\n",
       "  </tbody>\n",
       "</table>\n",
       "</div>"
      ],
      "text/plain": [
       "                                                   lyric  class  lyric_len\n",
       "41158  although the recent concerts of some of the bi...      0        345"
      ]
     },
     "execution_count": 21,
     "metadata": {},
     "output_type": "execute_result"
    }
   ],
   "source": [
    "data.loc[data['lyric_len'] == max(data['lyric_len'])]"
   ]
  },
  {
   "cell_type": "code",
   "execution_count": 22,
   "id": "ab510634",
   "metadata": {},
   "outputs": [
    {
     "name": "stdout",
     "output_type": "stream",
     "text": [
      "lyric        cant drink without thinkin about you\n",
      "class                                           1\n",
      "lyric_len                                      36\n",
      "Name: 0, dtype: object\n"
     ]
    }
   ],
   "source": [
    "for row in data.iterrows():\n",
    "    print(row[1])\n",
    "    break"
   ]
  },
  {
   "cell_type": "markdown",
   "id": "8c172dde",
   "metadata": {},
   "source": [
    "The length of the texts are not symmetrical, so we need to pad the text."
   ]
  },
  {
   "cell_type": "code",
   "execution_count": 23,
   "id": "dd59fc80",
   "metadata": {},
   "outputs": [],
   "source": [
    "def pad_text(text, unk = '?', limit = 400):\n",
    "    if len(text) < limit:\n",
    "        text = text + unk*(limit - len(text))\n",
    "    else:\n",
    "        text = text[:limit-1]\n",
    "    return text"
   ]
  },
  {
   "cell_type": "code",
   "execution_count": 24,
   "id": "0b2941cb",
   "metadata": {},
   "outputs": [],
   "source": [
    "data['lyric'] = data['lyric'].apply(pad_text, **{\"limit\" : SEQ_LEN, \"unk\" : \"#\"})"
   ]
  },
  {
   "cell_type": "code",
   "execution_count": 25,
   "id": "3193c22f",
   "metadata": {},
   "outputs": [
    {
     "data": {
      "text/html": [
       "<div>\n",
       "<style scoped>\n",
       "    .dataframe tbody tr th:only-of-type {\n",
       "        vertical-align: middle;\n",
       "    }\n",
       "\n",
       "    .dataframe tbody tr th {\n",
       "        vertical-align: top;\n",
       "    }\n",
       "\n",
       "    .dataframe thead th {\n",
       "        text-align: right;\n",
       "    }\n",
       "</style>\n",
       "<table border=\"1\" class=\"dataframe\">\n",
       "  <thead>\n",
       "    <tr style=\"text-align: right;\">\n",
       "      <th></th>\n",
       "      <th>lyric</th>\n",
       "      <th>class</th>\n",
       "      <th>lyric_len</th>\n",
       "    </tr>\n",
       "  </thead>\n",
       "  <tbody>\n",
       "    <tr>\n",
       "      <th>0</th>\n",
       "      <td>cant drink without thinkin about you##########...</td>\n",
       "      <td>1</td>\n",
       "      <td>36</td>\n",
       "    </tr>\n",
       "    <tr>\n",
       "      <th>1</th>\n",
       "      <td>now lil pump flyin private jet yuh############...</td>\n",
       "      <td>0</td>\n",
       "      <td>34</td>\n",
       "    </tr>\n",
       "    <tr>\n",
       "      <th>2</th>\n",
       "      <td>no matter fact you aint help me when i had no ...</td>\n",
       "      <td>0</td>\n",
       "      <td>51</td>\n",
       "    </tr>\n",
       "    <tr>\n",
       "      <th>3</th>\n",
       "      <td>and you could find me i aint hidin############...</td>\n",
       "      <td>0</td>\n",
       "      <td>34</td>\n",
       "    </tr>\n",
       "    <tr>\n",
       "      <th>4</th>\n",
       "      <td>from the way you talk to the way you move#####...</td>\n",
       "      <td>1</td>\n",
       "      <td>41</td>\n",
       "    </tr>\n",
       "  </tbody>\n",
       "</table>\n",
       "</div>"
      ],
      "text/plain": [
       "                                               lyric  class  lyric_len\n",
       "0  cant drink without thinkin about you##########...      1         36\n",
       "1  now lil pump flyin private jet yuh############...      0         34\n",
       "2  no matter fact you aint help me when i had no ...      0         51\n",
       "3  and you could find me i aint hidin############...      0         34\n",
       "4  from the way you talk to the way you move#####...      1         41"
      ]
     },
     "execution_count": 25,
     "metadata": {},
     "output_type": "execute_result"
    }
   ],
   "source": [
    "data.head()"
   ]
  },
  {
   "cell_type": "code",
   "execution_count": 26,
   "id": "689977ff",
   "metadata": {},
   "outputs": [
    {
     "data": {
      "text/plain": [
       "'cant drink without thinkin about you############################################################################################################################################################################################################################################################################################################################################################################'"
      ]
     },
     "execution_count": 26,
     "metadata": {},
     "output_type": "execute_result"
    }
   ],
   "source": [
    "unidecode(data['lyric'][0])"
   ]
  },
  {
   "cell_type": "code",
   "execution_count": 27,
   "id": "ada24bc9",
   "metadata": {},
   "outputs": [
    {
     "data": {
      "text/plain": [
       "{' ',\n",
       " '#',\n",
       " '0',\n",
       " '1',\n",
       " '2',\n",
       " '3',\n",
       " '4',\n",
       " '5',\n",
       " '6',\n",
       " '7',\n",
       " '8',\n",
       " '9',\n",
       " 'a',\n",
       " 'b',\n",
       " 'c',\n",
       " 'd',\n",
       " 'e',\n",
       " 'f',\n",
       " 'g',\n",
       " 'h',\n",
       " 'i',\n",
       " 'j',\n",
       " 'k',\n",
       " 'l',\n",
       " 'm',\n",
       " 'n',\n",
       " 'o',\n",
       " 'p',\n",
       " 'q',\n",
       " 'r',\n",
       " 's',\n",
       " 't',\n",
       " 'u',\n",
       " 'v',\n",
       " 'w',\n",
       " 'x',\n",
       " 'y',\n",
       " 'z'}"
      ]
     },
     "execution_count": 27,
     "metadata": {},
     "output_type": "execute_result"
    }
   ],
   "source": [
    "### Unique characters represented in the text\n",
    "set(''.join(data['lyric'].tolist()))"
   ]
  },
  {
   "cell_type": "code",
   "execution_count": 28,
   "id": "ec366bf7",
   "metadata": {},
   "outputs": [],
   "source": [
    "### Account for space and trhe unknown token (#)\n",
    "all_char = '#' + ' ' + all_char"
   ]
  },
  {
   "cell_type": "code",
   "execution_count": 29,
   "id": "e2a0aab4",
   "metadata": {},
   "outputs": [
    {
     "data": {
      "text/plain": [
       "'# abcdefghijklmnopqrstuvwxyz0123456789'"
      ]
     },
     "execution_count": 29,
     "metadata": {},
     "output_type": "execute_result"
    }
   ],
   "source": [
    "all_char"
   ]
  },
  {
   "cell_type": "code",
   "execution_count": 30,
   "id": "1680765d",
   "metadata": {},
   "outputs": [],
   "source": [
    "char_dict = dict(enumerate(all_char, start = 0))\n",
    "char_dict = {v: k for k, v in char_dict.items()}"
   ]
  },
  {
   "cell_type": "code",
   "execution_count": 31,
   "id": "f44021e7",
   "metadata": {},
   "outputs": [
    {
     "data": {
      "text/plain": [
       "{'#': 0,\n",
       " ' ': 1,\n",
       " 'a': 2,\n",
       " 'b': 3,\n",
       " 'c': 4,\n",
       " 'd': 5,\n",
       " 'e': 6,\n",
       " 'f': 7,\n",
       " 'g': 8,\n",
       " 'h': 9,\n",
       " 'i': 10,\n",
       " 'j': 11,\n",
       " 'k': 12,\n",
       " 'l': 13,\n",
       " 'm': 14,\n",
       " 'n': 15,\n",
       " 'o': 16,\n",
       " 'p': 17,\n",
       " 'q': 18,\n",
       " 'r': 19,\n",
       " 's': 20,\n",
       " 't': 21,\n",
       " 'u': 22,\n",
       " 'v': 23,\n",
       " 'w': 24,\n",
       " 'x': 25,\n",
       " 'y': 26,\n",
       " 'z': 27,\n",
       " '0': 28,\n",
       " '1': 29,\n",
       " '2': 30,\n",
       " '3': 31,\n",
       " '4': 32,\n",
       " '5': 33,\n",
       " '6': 34,\n",
       " '7': 35,\n",
       " '8': 36,\n",
       " '9': 37}"
      ]
     },
     "execution_count": 31,
     "metadata": {},
     "output_type": "execute_result"
    }
   ],
   "source": [
    "char_dict"
   ]
  },
  {
   "cell_type": "code",
   "execution_count": 32,
   "id": "405495e3",
   "metadata": {},
   "outputs": [],
   "source": [
    "class TextDataset(Dataset):\n",
    "    def __init__(self, file):\n",
    "        self.file = file\n",
    "        self.texts = self.file['lyric']\n",
    "        self.labels = self.file['class']\n",
    "    def __len__(self):\n",
    "        return len(self.labels)\n",
    "    def __getitem__(self, ix):\n",
    "        return torch.tensor([char_dict[c] for c in unidecode(self.texts[ix])]), self.labels[ix]"
   ]
  },
  {
   "cell_type": "code",
   "execution_count": 33,
   "id": "334fd654",
   "metadata": {},
   "outputs": [],
   "source": [
    "text_data = TextDataset(data)"
   ]
  },
  {
   "cell_type": "code",
   "execution_count": 34,
   "id": "b6815da9",
   "metadata": {},
   "outputs": [
    {
     "data": {
      "text/plain": [
       "51054"
      ]
     },
     "execution_count": 34,
     "metadata": {},
     "output_type": "execute_result"
    }
   ],
   "source": [
    "len(text_data)"
   ]
  },
  {
   "cell_type": "code",
   "execution_count": 35,
   "id": "a01e97dd",
   "metadata": {},
   "outputs": [
    {
     "data": {
      "text/plain": [
       "0        cant drink without thinkin about you##########...\n",
       "1        now lil pump flyin private jet yuh############...\n",
       "2        no matter fact you aint help me when i had no ...\n",
       "3        and you could find me i aint hidin############...\n",
       "4        from the way you talk to the way you move#####...\n",
       "                               ...                        \n",
       "51049    i told her pour me some more then she went rig...\n",
       "51050    hit the ground and crawl to the dresser#######...\n",
       "51051    just keep breathin and breathin and breathin a...\n",
       "51052    down go the system long live the king king####...\n",
       "51053    if your mother knew all the things we do from ...\n",
       "Name: lyric, Length: 51054, dtype: object"
      ]
     },
     "execution_count": 35,
     "metadata": {},
     "output_type": "execute_result"
    }
   ],
   "source": [
    "text_data.texts"
   ]
  },
  {
   "cell_type": "code",
   "execution_count": 36,
   "id": "9989b786",
   "metadata": {},
   "outputs": [
    {
     "data": {
      "text/plain": [
       "(tensor([ 4,  2, 15, 21,  1,  5, 19, 10, 15, 12,  1, 24, 10, 21,  9, 16, 22, 21,\n",
       "          1, 21,  9, 10, 15, 12, 10, 15,  1,  2,  3, 16, 22, 21,  1, 26, 16, 22,\n",
       "          0,  0,  0,  0,  0,  0,  0,  0,  0,  0,  0,  0,  0,  0,  0,  0,  0,  0,\n",
       "          0,  0,  0,  0,  0,  0,  0,  0,  0,  0,  0,  0,  0,  0,  0,  0,  0,  0,\n",
       "          0,  0,  0,  0,  0,  0,  0,  0,  0,  0,  0,  0,  0,  0,  0,  0,  0,  0,\n",
       "          0,  0,  0,  0,  0,  0,  0,  0,  0,  0,  0,  0,  0,  0,  0,  0,  0,  0,\n",
       "          0,  0,  0,  0,  0,  0,  0,  0,  0,  0,  0,  0,  0,  0,  0,  0,  0,  0,\n",
       "          0,  0,  0,  0,  0,  0,  0,  0,  0,  0,  0,  0,  0,  0,  0,  0,  0,  0,\n",
       "          0,  0,  0,  0,  0,  0,  0,  0,  0,  0,  0,  0,  0,  0,  0,  0,  0,  0,\n",
       "          0,  0,  0,  0,  0,  0,  0,  0,  0,  0,  0,  0,  0,  0,  0,  0,  0,  0,\n",
       "          0,  0,  0,  0,  0,  0,  0,  0,  0,  0,  0,  0,  0,  0,  0,  0,  0,  0,\n",
       "          0,  0,  0,  0,  0,  0,  0,  0,  0,  0,  0,  0,  0,  0,  0,  0,  0,  0,\n",
       "          0,  0,  0,  0,  0,  0,  0,  0,  0,  0,  0,  0,  0,  0,  0,  0,  0,  0,\n",
       "          0,  0,  0,  0,  0,  0,  0,  0,  0,  0,  0,  0,  0,  0,  0,  0,  0,  0,\n",
       "          0,  0,  0,  0,  0,  0,  0,  0,  0,  0,  0,  0,  0,  0,  0,  0,  0,  0,\n",
       "          0,  0,  0,  0,  0,  0,  0,  0,  0,  0,  0,  0,  0,  0,  0,  0,  0,  0,\n",
       "          0,  0,  0,  0,  0,  0,  0,  0,  0,  0,  0,  0,  0,  0,  0,  0,  0,  0,\n",
       "          0,  0,  0,  0,  0,  0,  0,  0,  0,  0,  0,  0,  0,  0,  0,  0,  0,  0,\n",
       "          0,  0,  0,  0,  0,  0,  0,  0,  0,  0,  0,  0,  0,  0,  0,  0,  0,  0,\n",
       "          0,  0,  0,  0,  0,  0,  0,  0,  0,  0,  0,  0,  0,  0,  0,  0,  0,  0,\n",
       "          0,  0,  0,  0,  0,  0,  0,  0,  0,  0,  0,  0,  0,  0,  0,  0,  0,  0,\n",
       "          0,  0,  0,  0,  0,  0,  0,  0,  0,  0,  0,  0,  0,  0,  0,  0,  0,  0,\n",
       "          0,  0,  0,  0]),\n",
       " 1)"
      ]
     },
     "execution_count": 36,
     "metadata": {},
     "output_type": "execute_result"
    }
   ],
   "source": [
    "next(iter(text_data))"
   ]
  },
  {
   "cell_type": "code",
   "execution_count": 37,
   "id": "39f14852",
   "metadata": {},
   "outputs": [],
   "source": [
    "test_size = 5000\n",
    "train_ds, test_ds = torch.utils.data.random_split(text_data, lengths = [len(text_data) - test_size, test_size])"
   ]
  },
  {
   "cell_type": "code",
   "execution_count": 38,
   "id": "5ac0f033",
   "metadata": {},
   "outputs": [
    {
     "data": {
      "text/plain": [
       "46054"
      ]
     },
     "execution_count": 38,
     "metadata": {},
     "output_type": "execute_result"
    }
   ],
   "source": [
    "len(train_ds)"
   ]
  },
  {
   "cell_type": "code",
   "execution_count": 39,
   "id": "a068f105",
   "metadata": {},
   "outputs": [
    {
     "data": {
      "text/plain": [
       "5000"
      ]
     },
     "execution_count": 39,
     "metadata": {},
     "output_type": "execute_result"
    }
   ],
   "source": [
    "len(test_ds)"
   ]
  },
  {
   "cell_type": "code",
   "execution_count": 40,
   "id": "73aa5687",
   "metadata": {},
   "outputs": [],
   "source": [
    "train_dl = DataLoader(train_ds, batch_size = BATCH_SIZE, shuffle = True, drop_last = False)"
   ]
  },
  {
   "cell_type": "code",
   "execution_count": 41,
   "id": "e63e9307",
   "metadata": {},
   "outputs": [],
   "source": [
    "test_dl = DataLoader(test_ds, batch_size = BATCH_SIZE, shuffle = False, drop_last = False)"
   ]
  },
  {
   "cell_type": "code",
   "execution_count": 42,
   "id": "846d9f8d",
   "metadata": {},
   "outputs": [
    {
     "data": {
      "text/plain": [
       "[tensor([[ 5, 16, 15,  ...,  0,  0,  0],\n",
       "         [ 7,  2,  4,  ...,  0,  0,  0],\n",
       "         [10,  1, 12,  ...,  0,  0,  0],\n",
       "         ...,\n",
       "         [14,  2, 26,  ...,  0,  0,  0],\n",
       "         [16, 15, 13,  ...,  0,  0,  0],\n",
       "         [24,  9,  2,  ...,  0,  0,  0]]),\n",
       " tensor([0, 0, 0, 0, 1, 1, 0, 0, 1, 0, 0, 0, 1, 0, 0, 0, 0, 1, 1, 1, 0, 0, 0, 0,\n",
       "         1, 1, 1, 1, 0, 0, 1, 1])]"
      ]
     },
     "execution_count": 42,
     "metadata": {},
     "output_type": "execute_result"
    }
   ],
   "source": [
    "next(iter(test_dl))"
   ]
  },
  {
   "cell_type": "code",
   "execution_count": 43,
   "id": "b9bdc2da",
   "metadata": {},
   "outputs": [],
   "source": [
    "class LyricModel(nn.Module):\n",
    "    def __init__(self, batch_size = 32, num_layers = 2, hidden_size = 128, length = 64):\n",
    "        self.hidden = hidden_size\n",
    "        self.batch_size = batch_size\n",
    "        self.length = length\n",
    "        self.num_layers = num_layers\n",
    "        \n",
    "        super(LyricModel, self).__init__()\n",
    "        \n",
    "        self.embedder = nn.Embedding(num_embeddings = len(char_dict), embedding_dim = self.length)\n",
    "        \n",
    "        self.linear1 = nn.Linear(self.length, self.length*2)\n",
    "        self.linear2 = nn.Linear(self.length*2, 1)\n",
    "        self.linear3 = nn.Linear(SEQ_LEN, 1)\n",
    "        \n",
    "        self.dropout1 = nn.Dropout(p = 0.3)\n",
    "        self.dropout2 = nn.Dropout(p = 0.5)\n",
    "        \n",
    "        self.b1 = nn.BatchNorm1d(400, momentum = 0.1)\n",
    "        self.b2 = nn.BatchNorm1d(400, momentum = 0.1)\n",
    "    \n",
    "    def forward(self, x):\n",
    "        y = self.embedder(x)\n",
    "        y = self.b1(F.relu(self.linear1(y)))\n",
    "        y = self.dropout1(y)\n",
    "        y = self.b2(F.relu(self.linear2(y)))\n",
    "        y = self.dropout2(y)\n",
    "        y = y.view(-1, SEQ_LEN)\n",
    "        return self.linear3(y)"
   ]
  },
  {
   "cell_type": "code",
   "execution_count": 44,
   "id": "ec7aecf1",
   "metadata": {},
   "outputs": [],
   "source": [
    "def initialize_weights(model):\n",
    "    for layer in model.modules():\n",
    "        if 'Linear' in layer.__class__.__name__:\n",
    "            nn.init.normal_(layer.weight, 0, 0.02)\n",
    "            nn.init.normal_(layer.bias, 1, 0.02)\n",
    "        elif 'BatchNorm' in layer.__class__.__name__:\n",
    "            nn.init.normal_(layer.weight, 1, 0.02)\n",
    "            nn.init.zeros_(layer.bias)\n",
    "    return None"
   ]
  },
  {
   "cell_type": "code",
   "execution_count": 45,
   "id": "d21bf947",
   "metadata": {},
   "outputs": [],
   "source": [
    "model = LyricModel(batch_size = BATCH_SIZE, hidden_size = 64, length = 32)"
   ]
  },
  {
   "cell_type": "code",
   "execution_count": 46,
   "id": "e01f19e8",
   "metadata": {},
   "outputs": [
    {
     "data": {
      "image/png": "[encoded data removed]",
      "text/plain": [
       "<Figure size 460.8x403.2 with 1 Axes>"
      ]
     },
     "metadata": {},
     "output_type": "display_data"
    }
   ],
   "source": [
    "### Before weight initialization\n",
    "plt.hist(torch.flatten(model.linear1.weight.data.detach().clone()).cpu().numpy())\n",
    "plt.show()"
   ]
  },
  {
   "cell_type": "code",
   "execution_count": 47,
   "id": "3e2f69ef",
   "metadata": {},
   "outputs": [
    {
     "data": {
      "image/png": "[encoded data removed]",
      "text/plain": [
       "<Figure size 460.8x403.2 with 1 Axes>"
      ]
     },
     "metadata": {},
     "output_type": "display_data"
    }
   ],
   "source": [
    "### Before weight initialization\n",
    "plt.hist(torch.flatten(model.linear1.bias.data.detach().clone()).cpu().numpy())\n",
    "plt.show()"
   ]
  },
  {
   "cell_type": "code",
   "execution_count": 48,
   "id": "a171030b",
   "metadata": {},
   "outputs": [
    {
     "data": {
      "text/plain": [
       "LyricModel(\n",
       "  (embedder): Embedding(38, 32)\n",
       "  (linear1): Linear(in_features=32, out_features=64, bias=True)\n",
       "  (linear2): Linear(in_features=64, out_features=1, bias=True)\n",
       "  (linear3): Linear(in_features=400, out_features=1, bias=True)\n",
       "  (dropout1): Dropout(p=0.3, inplace=False)\n",
       "  (dropout2): Dropout(p=0.5, inplace=False)\n",
       "  (b1): BatchNorm1d(400, eps=1e-05, momentum=0.1, affine=True, track_running_stats=True)\n",
       "  (b2): BatchNorm1d(400, eps=1e-05, momentum=0.1, affine=True, track_running_stats=True)\n",
       ")"
      ]
     },
     "execution_count": 48,
     "metadata": {},
     "output_type": "execute_result"
    }
   ],
   "source": [
    "### Initialize weignts and cast to device\n",
    "model.apply(initialize_weights)\n",
    "model.to(device)"
   ]
  },
  {
   "cell_type": "code",
   "execution_count": 49,
   "id": "7ab63dd8",
   "metadata": {},
   "outputs": [
    {
     "data": {
      "image/png": "[encoded data removed]",
      "text/plain": [
       "<Figure size 460.8x403.2 with 1 Axes>"
      ]
     },
     "metadata": {},
     "output_type": "display_data"
    }
   ],
   "source": [
    "### After weight initialization\n",
    "plt.hist(torch.flatten(model.linear1.weight.data.detach().clone()).cpu().numpy())\n",
    "plt.show()"
   ]
  },
  {
   "cell_type": "code",
   "execution_count": 50,
   "id": "b8912703",
   "metadata": {},
   "outputs": [
    {
     "data": {
      "image/png": "[encoded data removed]",
      "text/plain": [
       "<Figure size 460.8x403.2 with 1 Axes>"
      ]
     },
     "metadata": {},
     "output_type": "display_data"
    }
   ],
   "source": [
    "### After weight initialization\n",
    "plt.hist(torch.flatten(model.linear1.bias.data.detach().clone()).cpu().numpy())\n",
    "plt.show()"
   ]
  },
  {
   "cell_type": "code",
   "execution_count": 51,
   "id": "c2fafc02",
   "metadata": {},
   "outputs": [],
   "source": [
    "EPOCHS = 100\n",
    "lr = 1e-4\n",
    "betas = (0.5, 0.999)"
   ]
  },
  {
   "cell_type": "code",
   "execution_count": 52,
   "id": "322b86dd",
   "metadata": {},
   "outputs": [],
   "source": [
    "opt = optim.Adam(params = model.parameters(), lr = lr, betas = betas)\n",
    "scheduler = optim.lr_scheduler.CosineAnnealingLR(opt, 1200)\n",
    "criterion = nn.BCEWithLogitsLoss().to(device)"
   ]
  },
  {
   "cell_type": "code",
   "execution_count": 53,
   "id": "a65e0761",
   "metadata": {
    "scrolled": true
   },
   "outputs": [
    {
     "name": "stdout",
     "output_type": "stream",
     "text": [
      "Epoch [1/100]\n",
      "   Iteration [1440/1440]\n",
      " \tTrain loss :  0.773 || Test loss :  0.655\n",
      " \tTrain acc. :  0.551 || Test acc. :  0.625\n",
      "Epoch [2/100]\n",
      "   Iteration [1440/1440]\n",
      " \tTrain loss :  0.679 || Test loss :  0.634\n",
      " \tTrain acc. :  0.597 || Test acc. :  0.604\n",
      "Epoch [3/100]\n",
      "   Iteration [1440/1440]\n",
      " \tTrain loss :  0.665 || Test loss :  0.632\n",
      " \tTrain acc. :  0.601 || Test acc. :  0.609\n",
      "Epoch [4/100]\n",
      "   Iteration [1440/1440]\n",
      " \tTrain loss :  0.656 || Test loss :  0.628\n",
      " \tTrain acc. :  0.604 || Test acc. :  0.610\n",
      "Epoch [5/100]\n",
      "   Iteration [1440/1440]\n",
      " \tTrain loss :  0.652 || Test loss :  0.628\n",
      " \tTrain acc. :  0.604 || Test acc. :  0.613\n",
      "Epoch [6/100]\n",
      "   Iteration [1440/1440]\n",
      " \tTrain loss :  0.649 || Test loss :  0.627\n",
      " \tTrain acc. :  0.604 || Test acc. :  0.607\n",
      "Epoch [7/100]\n",
      "   Iteration [1440/1440]\n",
      " \tTrain loss :  0.646 || Test loss :  0.626\n",
      " \tTrain acc. :  0.605 || Test acc. :  0.614\n",
      "Epoch [8/100]\n",
      "   Iteration [1440/1440]\n",
      " \tTrain loss :  0.648 || Test loss :  0.625\n",
      " \tTrain acc. :  0.604 || Test acc. :  0.600\n",
      "Epoch [9/100]\n",
      "   Iteration [1440/1440]\n",
      " \tTrain loss :  0.644 || Test loss :  0.625\n",
      " \tTrain acc. :  0.605 || Test acc. :  0.597\n",
      "Epoch [10/100]\n",
      "   Iteration [1440/1440]\n",
      " \tTrain loss :  0.644 || Test loss :  0.625\n",
      " \tTrain acc. :  0.605 || Test acc. :  0.602\n",
      "Epoch [11/100]\n",
      "   Iteration [1440/1440]\n",
      " \tTrain loss :  0.644 || Test loss :  0.625\n",
      " \tTrain acc. :  0.604 || Test acc. :  0.596\n",
      "Epoch [12/100]\n",
      "   Iteration [1440/1440]\n",
      " \tTrain loss :  0.643 || Test loss :  0.625\n",
      " \tTrain acc. :  0.604 || Test acc. :  0.604\n",
      "Epoch [13/100]\n",
      "   Iteration [1440/1440]\n",
      " \tTrain loss :  0.643 || Test loss :  0.625\n",
      " \tTrain acc. :  0.606 || Test acc. :  0.599\n",
      "Epoch [14/100]\n",
      "   Iteration [1440/1440]\n",
      " \tTrain loss :  0.643 || Test loss :  0.626\n",
      " \tTrain acc. :  0.602 || Test acc. :  0.593\n",
      "Epoch [15/100]\n",
      "   Iteration [1440/1440]\n",
      " \tTrain loss :  0.642 || Test loss :  0.625\n",
      " \tTrain acc. :  0.603 || Test acc. :  0.614\n",
      "Epoch [16/100]\n",
      "   Iteration [1440/1440]\n",
      " \tTrain loss :  0.642 || Test loss :  0.625\n",
      " \tTrain acc. :  0.606 || Test acc. :  0.610\n",
      "Epoch [17/100]\n",
      "   Iteration [1440/1440]\n",
      " \tTrain loss :  0.642 || Test loss :  0.625\n",
      " \tTrain acc. :  0.604 || Test acc. :  0.600\n",
      "Epoch [18/100]\n",
      "   Iteration [1440/1440]\n",
      " \tTrain loss :  0.642 || Test loss :  0.626\n",
      " \tTrain acc. :  0.602 || Test acc. :  0.616\n",
      "Epoch [19/100]\n",
      "   Iteration [1440/1440]\n",
      " \tTrain loss :  0.641 || Test loss :  0.625\n",
      " \tTrain acc. :  0.603 || Test acc. :  0.608\n",
      "Epoch [20/100]\n",
      "   Iteration [1440/1440]\n",
      " \tTrain loss :  0.641 || Test loss :  0.626\n",
      " \tTrain acc. :  0.604 || Test acc. :  0.609\n",
      "Epoch [21/100]\n",
      "   Iteration [1440/1440]\n",
      " \tTrain loss :  0.642 || Test loss :  0.626\n",
      " \tTrain acc. :  0.602 || Test acc. :  0.610\n",
      "Epoch [22/100]\n",
      "   Iteration [1440/1440]\n",
      " \tTrain loss :  0.643 || Test loss :  0.625\n",
      " \tTrain acc. :  0.602 || Test acc. :  0.611\n",
      "Epoch [23/100]\n",
      "   Iteration [1440/1440]\n",
      " \tTrain loss :  0.643 || Test loss :  0.625\n",
      " \tTrain acc. :  0.601 || Test acc. :  0.605\n",
      "Epoch [24/100]\n",
      "   Iteration [1440/1440]\n",
      " \tTrain loss :  0.642 || Test loss :  0.626\n",
      " \tTrain acc. :  0.603 || Test acc. :  0.607\n",
      "Epoch [25/100]\n",
      "   Iteration [1440/1440]\n",
      " \tTrain loss :  0.641 || Test loss :  0.625\n",
      " \tTrain acc. :  0.602 || Test acc. :  0.607\n",
      "Epoch [26/100]\n",
      "   Iteration [1440/1440]\n",
      " \tTrain loss :  0.640 || Test loss :  0.625\n",
      " \tTrain acc. :  0.603 || Test acc. :  0.601\n",
      "Epoch [27/100]\n",
      "   Iteration [1440/1440]\n",
      " \tTrain loss :  0.641 || Test loss :  0.627\n",
      " \tTrain acc. :  0.602 || Test acc. :  0.582\n",
      "Epoch [28/100]\n",
      "   Iteration [1440/1440]\n",
      " \tTrain loss :  0.641 || Test loss :  0.625\n",
      " \tTrain acc. :  0.602 || Test acc. :  0.587\n",
      "Epoch [29/100]\n",
      "   Iteration [1440/1440]\n",
      " \tTrain loss :  0.642 || Test loss :  0.627\n",
      " \tTrain acc. :  0.602 || Test acc. :  0.582\n",
      "Epoch [30/100]\n",
      "   Iteration [1440/1440]\n",
      " \tTrain loss :  0.641 || Test loss :  0.625\n",
      " \tTrain acc. :  0.602 || Test acc. :  0.594\n",
      "Epoch [31/100]\n",
      "   Iteration [1440/1440]\n",
      " \tTrain loss :  0.641 || Test loss :  0.625\n",
      " \tTrain acc. :  0.602 || Test acc. :  0.596\n",
      "Epoch [32/100]\n",
      "   Iteration [1440/1440]\n",
      " \tTrain loss :  0.642 || Test loss :  0.625\n",
      " \tTrain acc. :  0.601 || Test acc. :  0.598\n",
      "Epoch [33/100]\n",
      "   Iteration [1440/1440]\n",
      " \tTrain loss :  0.642 || Test loss :  0.625\n",
      " \tTrain acc. :  0.602 || Test acc. :  0.598\n",
      "Epoch [34/100]\n",
      "   Iteration [1440/1440]\n",
      " \tTrain loss :  0.643 || Test loss :  0.625\n",
      " \tTrain acc. :  0.599 || Test acc. :  0.598\n",
      "Epoch [35/100]\n",
      "   Iteration [1440/1440]\n",
      " \tTrain loss :  0.641 || Test loss :  0.625\n",
      " \tTrain acc. :  0.602 || Test acc. :  0.597\n",
      "Epoch [36/100]\n",
      "   Iteration [1440/1440]\n",
      " \tTrain loss :  0.641 || Test loss :  0.626\n",
      " \tTrain acc. :  0.601 || Test acc. :  0.590\n",
      "Epoch [37/100]\n",
      "   Iteration [1440/1440]\n",
      " \tTrain loss :  0.640 || Test loss :  0.624\n",
      " \tTrain acc. :  0.601 || Test acc. :  0.601\n",
      "Epoch [38/100]\n",
      "   Iteration [1440/1440]\n",
      " \tTrain loss :  0.641 || Test loss :  0.625\n",
      " \tTrain acc. :  0.600 || Test acc. :  0.600\n",
      "Epoch [39/100]\n",
      "   Iteration [1440/1440]\n",
      " \tTrain loss :  0.641 || Test loss :  0.624\n",
      " \tTrain acc. :  0.600 || Test acc. :  0.598\n",
      "Epoch [40/100]\n",
      "   Iteration [1440/1440]\n",
      " \tTrain loss :  0.640 || Test loss :  0.625\n",
      " \tTrain acc. :  0.602 || Test acc. :  0.588\n",
      "Epoch [41/100]\n",
      "   Iteration [1440/1440]\n",
      " \tTrain loss :  0.639 || Test loss :  0.624\n",
      " \tTrain acc. :  0.601 || Test acc. :  0.602\n",
      "Epoch [42/100]\n",
      "   Iteration [1440/1440]\n",
      " \tTrain loss :  0.640 || Test loss :  0.624\n",
      " \tTrain acc. :  0.602 || Test acc. :  0.596\n",
      "Epoch [43/100]\n",
      "   Iteration [1440/1440]\n",
      " \tTrain loss :  0.642 || Test loss :  0.625\n",
      " \tTrain acc. :  0.601 || Test acc. :  0.591\n",
      "Epoch [44/100]\n",
      "   Iteration [1440/1440]\n",
      " \tTrain loss :  0.640 || Test loss :  0.625\n",
      " \tTrain acc. :  0.601 || Test acc. :  0.600\n",
      "Epoch [45/100]\n",
      "   Iteration [1440/1440]\n",
      " \tTrain loss :  0.640 || Test loss :  0.624\n",
      " \tTrain acc. :  0.603 || Test acc. :  0.591\n",
      "Epoch [46/100]\n",
      "   Iteration [1440/1440]\n",
      " \tTrain loss :  0.641 || Test loss :  0.625\n",
      " \tTrain acc. :  0.600 || Test acc. :  0.608\n",
      "Epoch [47/100]\n",
      "   Iteration [1440/1440]\n",
      " \tTrain loss :  0.641 || Test loss :  0.625\n",
      " \tTrain acc. :  0.600 || Test acc. :  0.601\n",
      "Epoch [48/100]\n",
      "   Iteration [1440/1440]\n",
      " \tTrain loss :  0.641 || Test loss :  0.625\n",
      " \tTrain acc. :  0.600 || Test acc. :  0.600\n",
      "Epoch [49/100]\n",
      "   Iteration [1440/1440]\n",
      " \tTrain loss :  0.640 || Test loss :  0.625\n",
      " \tTrain acc. :  0.601 || Test acc. :  0.609\n",
      "Epoch [50/100]\n",
      "   Iteration [1440/1440]\n",
      " \tTrain loss :  0.640 || Test loss :  0.625\n",
      " \tTrain acc. :  0.603 || Test acc. :  0.601\n",
      "Epoch [51/100]\n",
      "   Iteration [1440/1440]\n",
      " \tTrain loss :  0.641 || Test loss :  0.626\n",
      " \tTrain acc. :  0.601 || Test acc. :  0.588\n",
      "Epoch [52/100]\n",
      "   Iteration [1440/1440]\n",
      " \tTrain loss :  0.640 || Test loss :  0.625\n",
      " \tTrain acc. :  0.601 || Test acc. :  0.603\n",
      "Epoch [53/100]\n",
      "   Iteration [1440/1440]\n",
      " \tTrain loss :  0.641 || Test loss :  0.625\n",
      " \tTrain acc. :  0.600 || Test acc. :  0.599\n",
      "Epoch [54/100]\n",
      "   Iteration [1440/1440]\n",
      " \tTrain loss :  0.642 || Test loss :  0.625\n",
      " \tTrain acc. :  0.602 || Test acc. :  0.598\n",
      "Epoch [55/100]\n",
      "   Iteration [1440/1440]\n",
      " \tTrain loss :  0.641 || Test loss :  0.625\n",
      " \tTrain acc. :  0.599 || Test acc. :  0.598\n",
      "Epoch [56/100]\n",
      "   Iteration [1440/1440]\n",
      " \tTrain loss :  0.641 || Test loss :  0.625\n",
      " \tTrain acc. :  0.601 || Test acc. :  0.597\n",
      "Epoch [57/100]\n",
      "   Iteration [1440/1440]\n",
      " \tTrain loss :  0.640 || Test loss :  0.625\n",
      " \tTrain acc. :  0.601 || Test acc. :  0.594\n",
      "Epoch [58/100]\n",
      "   Iteration [1440/1440]\n",
      " \tTrain loss :  0.640 || Test loss :  0.624\n",
      " \tTrain acc. :  0.601 || Test acc. :  0.599\n",
      "Epoch [59/100]\n",
      "   Iteration [1440/1440]\n",
      " \tTrain loss :  0.641 || Test loss :  0.625\n",
      " \tTrain acc. :  0.601 || Test acc. :  0.592\n",
      "Epoch [60/100]\n",
      "   Iteration [1440/1440]\n",
      " \tTrain loss :  0.640 || Test loss :  0.625\n",
      " \tTrain acc. :  0.602 || Test acc. :  0.593\n",
      "Epoch [61/100]\n",
      "   Iteration [1440/1440]\n",
      " \tTrain loss :  0.640 || Test loss :  0.624\n",
      " \tTrain acc. :  0.603 || Test acc. :  0.594\n",
      "Epoch [62/100]\n",
      "   Iteration [1440/1440]\n",
      " \tTrain loss :  0.640 || Test loss :  0.625\n",
      " \tTrain acc. :  0.601 || Test acc. :  0.601\n",
      "Epoch [63/100]\n",
      "   Iteration [1440/1440]\n",
      " \tTrain loss :  0.640 || Test loss :  0.625\n",
      " \tTrain acc. :  0.604 || Test acc. :  0.593\n",
      "Epoch [64/100]\n",
      "   Iteration [1440/1440]\n",
      " \tTrain loss :  0.641 || Test loss :  0.626\n",
      " \tTrain acc. :  0.600 || Test acc. :  0.596\n",
      "Epoch [65/100]\n",
      "   Iteration [1440/1440]\n",
      " \tTrain loss :  0.641 || Test loss :  0.625\n",
      " \tTrain acc. :  0.600 || Test acc. :  0.601\n"
     ]
    },
    {
     "name": "stdout",
     "output_type": "stream",
     "text": [
      "Epoch [66/100]\n",
      "   Iteration [1440/1440]\n",
      " \tTrain loss :  0.641 || Test loss :  0.625\n",
      " \tTrain acc. :  0.601 || Test acc. :  0.595\n",
      "Epoch [67/100]\n",
      "   Iteration [1440/1440]\n",
      " \tTrain loss :  0.641 || Test loss :  0.625\n",
      " \tTrain acc. :  0.600 || Test acc. :  0.606\n",
      "Epoch [68/100]\n",
      "   Iteration [1440/1440]\n",
      " \tTrain loss :  0.640 || Test loss :  0.624\n",
      " \tTrain acc. :  0.603 || Test acc. :  0.598\n",
      "Epoch [69/100]\n",
      "   Iteration [1440/1440]\n",
      " \tTrain loss :  0.641 || Test loss :  0.625\n",
      " \tTrain acc. :  0.600 || Test acc. :  0.600\n",
      "Epoch [70/100]\n",
      "   Iteration [1440/1440]\n",
      " \tTrain loss :  0.640 || Test loss :  0.625\n",
      " \tTrain acc. :  0.603 || Test acc. :  0.600\n",
      "Epoch [71/100]\n",
      "   Iteration [1440/1440]\n",
      " \tTrain loss :  0.641 || Test loss :  0.625\n",
      " \tTrain acc. :  0.600 || Test acc. :  0.594\n",
      "Epoch [72/100]\n",
      "   Iteration [1440/1440]\n",
      " \tTrain loss :  0.640 || Test loss :  0.626\n",
      " \tTrain acc. :  0.602 || Test acc. :  0.590\n",
      "Epoch [73/100]\n",
      "   Iteration [1440/1440]\n",
      " \tTrain loss :  0.640 || Test loss :  0.624\n",
      " \tTrain acc. :  0.600 || Test acc. :  0.598\n",
      "Epoch [74/100]\n",
      "   Iteration [1440/1440]\n",
      " \tTrain loss :  0.639 || Test loss :  0.625\n",
      " \tTrain acc. :  0.601 || Test acc. :  0.595\n",
      "Epoch [75/100]\n",
      "   Iteration [1440/1440]\n",
      " \tTrain loss :  0.642 || Test loss :  0.624\n",
      " \tTrain acc. :  0.598 || Test acc. :  0.602\n",
      "Epoch [76/100]\n",
      "   Iteration [1440/1440]\n",
      " \tTrain loss :  0.640 || Test loss :  0.625\n",
      " \tTrain acc. :  0.600 || Test acc. :  0.597\n",
      "Epoch [77/100]\n",
      "   Iteration [1440/1440]\n",
      " \tTrain loss :  0.639 || Test loss :  0.625\n",
      " \tTrain acc. :  0.601 || Test acc. :  0.600\n",
      "Epoch [78/100]\n",
      "   Iteration [1440/1440]\n",
      " \tTrain loss :  0.641 || Test loss :  0.625\n",
      " \tTrain acc. :  0.601 || Test acc. :  0.593\n",
      "Epoch [79/100]\n",
      "   Iteration [1440/1440]\n",
      " \tTrain loss :  0.640 || Test loss :  0.625\n",
      " \tTrain acc. :  0.601 || Test acc. :  0.590\n",
      "Epoch [80/100]\n",
      "   Iteration [1440/1440]\n",
      " \tTrain loss :  0.640 || Test loss :  0.625\n",
      " \tTrain acc. :  0.602 || Test acc. :  0.597\n",
      "Epoch [81/100]\n",
      "   Iteration [1440/1440]\n",
      " \tTrain loss :  0.640 || Test loss :  0.625\n",
      " \tTrain acc. :  0.600 || Test acc. :  0.595\n",
      "Epoch [82/100]\n",
      "   Iteration [1440/1440]\n",
      " \tTrain loss :  0.641 || Test loss :  0.624\n",
      " \tTrain acc. :  0.599 || Test acc. :  0.600\n",
      "Epoch [83/100]\n",
      "   Iteration [1440/1440]\n",
      " \tTrain loss :  0.640 || Test loss :  0.624\n",
      " \tTrain acc. :  0.601 || Test acc. :  0.600\n",
      "Epoch [84/100]\n",
      "   Iteration [1440/1440]\n",
      " \tTrain loss :  0.640 || Test loss :  0.625\n",
      " \tTrain acc. :  0.601 || Test acc. :  0.602\n",
      "Epoch [85/100]\n",
      "   Iteration [1440/1440]\n",
      " \tTrain loss :  0.640 || Test loss :  0.625\n",
      " \tTrain acc. :  0.602 || Test acc. :  0.592\n",
      "Epoch [86/100]\n",
      "   Iteration [1440/1440]\n",
      " \tTrain loss :  0.640 || Test loss :  0.624\n",
      " \tTrain acc. :  0.599 || Test acc. :  0.602\n",
      "Epoch [87/100]\n",
      "   Iteration [1440/1440]\n",
      " \tTrain loss :  0.640 || Test loss :  0.626\n",
      " \tTrain acc. :  0.601 || Test acc. :  0.593\n",
      "Epoch [88/100]\n",
      "   Iteration [1440/1440]\n",
      " \tTrain loss :  0.639 || Test loss :  0.624\n",
      " \tTrain acc. :  0.603 || Test acc. :  0.604\n",
      "Epoch [89/100]\n",
      "   Iteration [1440/1440]\n",
      " \tTrain loss :  0.641 || Test loss :  0.625\n",
      " \tTrain acc. :  0.601 || Test acc. :  0.600\n",
      "Epoch [90/100]\n",
      "   Iteration [1440/1440]\n",
      " \tTrain loss :  0.639 || Test loss :  0.625\n",
      " \tTrain acc. :  0.603 || Test acc. :  0.601\n",
      "Epoch [91/100]\n",
      "   Iteration [1440/1440]\n",
      " \tTrain loss :  0.641 || Test loss :  0.624\n",
      " \tTrain acc. :  0.602 || Test acc. :  0.596\n",
      "Epoch [92/100]\n",
      "   Iteration [1440/1440]\n",
      " \tTrain loss :  0.641 || Test loss :  0.625\n",
      " \tTrain acc. :  0.602 || Test acc. :  0.587\n",
      "Epoch [93/100]\n",
      "   Iteration [1440/1440]\n",
      " \tTrain loss :  0.638 || Test loss :  0.625\n",
      " \tTrain acc. :  0.602 || Test acc. :  0.593\n",
      "Epoch [94/100]\n",
      "   Iteration [1440/1440]\n",
      " \tTrain loss :  0.640 || Test loss :  0.624\n",
      " \tTrain acc. :  0.602 || Test acc. :  0.601\n",
      "Epoch [95/100]\n",
      "   Iteration [1440/1440]\n",
      " \tTrain loss :  0.640 || Test loss :  0.625\n",
      " \tTrain acc. :  0.600 || Test acc. :  0.596\n",
      "Epoch [96/100]\n",
      "   Iteration [1440/1440]\n",
      " \tTrain loss :  0.641 || Test loss :  0.625\n",
      " \tTrain acc. :  0.600 || Test acc. :  0.591\n",
      "Epoch [97/100]\n",
      "   Iteration [1440/1440]\n",
      " \tTrain loss :  0.640 || Test loss :  0.625\n",
      " \tTrain acc. :  0.601 || Test acc. :  0.595\n",
      "Epoch [98/100]\n",
      "   Iteration [1440/1440]\n",
      " \tTrain loss :  0.640 || Test loss :  0.625\n",
      " \tTrain acc. :  0.600 || Test acc. :  0.597\n",
      "Epoch [99/100]\n",
      "   Iteration [1440/1440]\n",
      " \tTrain loss :  0.640 || Test loss :  0.624\n",
      " \tTrain acc. :  0.602 || Test acc. :  0.600\n",
      "Epoch [100/100]\n",
      "   Iteration [1440/1440]\n",
      " \tTrain loss :  0.640 || Test loss :  0.625\n",
      " \tTrain acc. :  0.603 || Test acc. :  0.590\n"
     ]
    }
   ],
   "source": [
    "final_test_loss = []\n",
    "final_train_loss = []\n",
    "\n",
    "final_test_acc = []\n",
    "final_train_acc = []\n",
    "\n",
    "for epoch in range(1, EPOCHS + 1):\n",
    "    train_losses = list()\n",
    "    train_accs = 0\n",
    "    \n",
    "    for i, (X, y) in enumerate(train_dl, start = 1):\n",
    "        opt.zero_grad()\n",
    "        model.train()\n",
    "        \n",
    "        X, y = X.cuda(), y.cuda()\n",
    "        \n",
    "        pred = model(X)\n",
    "        loss = criterion(pred.squeeze(), y.float())\n",
    "        \n",
    "        loss.backward()\n",
    "        opt.step()\n",
    "        \n",
    "        train_losses.append(loss.item())\n",
    "        train_accs += torch.sum(torch.where(pred > 0.5, 1, 0).squeeze() == y).cpu().numpy()/len(y)\n",
    "        \n",
    "        if (i == len(train_dl)):\n",
    "            train_loss = sum(train_losses)/len(train_dl)\n",
    "            train_acc = train_accs/len(train_dl)\n",
    "            \n",
    "            test_losses = list()\n",
    "            test_accs = 0\n",
    "            \n",
    "            with torch.no_grad():\n",
    "                model.eval()\n",
    "                for X_test, y_test in test_dl:\n",
    "                    X_test, y_test = X_test.to(device), y_test.to(device)\n",
    "                    test_pred = model(X_test)\n",
    "                    test_loss = criterion(test_pred.squeeze(), y_test.float())\n",
    "                    test_losses.append(test_loss.item())\n",
    "                    test_accs += torch.sum(torch.where(test_pred > 0.5, 1, 0).squeeze() == y_test).cpu().numpy()/len(y_test)\n",
    "                \n",
    "                test_loss = sum(test_losses)/len(test_dl)\n",
    "                test_acc = test_accs/len(test_dl)\n",
    "                \n",
    "                final_test_loss.append(test_loss)\n",
    "                final_train_loss.append(train_loss)\n",
    "                \n",
    "                final_test_acc.append(test_acc)\n",
    "                final_train_acc.append(train_acc)\n",
    "                \n",
    "            print(f\"Epoch [{epoch}/{EPOCHS}]\")\n",
    "            print(f\"   Iteration [{i}/{len(train_dl)}]\")\n",
    "            print(f\" \\tTrain loss : {train_loss: .3f} || Test loss : {test_loss: .3f}\")\n",
    "            print(f\" \\tTrain acc. : {train_acc: .3f} || Test acc. : {test_acc: .3f}\")"
   ]
  },
  {
   "cell_type": "code",
   "execution_count": 54,
   "id": "9d1ac668",
   "metadata": {},
   "outputs": [
    {
     "data": {
      "image/png": "[encoded data removed]",
      "text/plain": [
       "<Figure size 1080x576 with 1 Axes>"
      ]
     },
     "metadata": {},
     "output_type": "display_data"
    }
   ],
   "source": [
    "plt.figure(figsize = (15, 8))\n",
    "plt.plot(range(1, EPOCHS + 1), final_train_loss, label = 'Train loss', marker = 'o')\n",
    "plt.plot(range(1, EPOCHS + 1), final_test_loss, label = 'Test loss', marker = 'o')\n",
    "\n",
    "plt.xlabel('Epoch')\n",
    "plt.ylabel('Loss')\n",
    "\n",
    "plt.legend()\n",
    "plt.tight_layout()\n",
    "\n",
    "plt.show(); plt.close('all')"
   ]
  },
  {
   "cell_type": "code",
   "execution_count": 57,
   "id": "f0a580fd",
   "metadata": {},
   "outputs": [
    {
     "data": {
      "image/png": "[encoded data removed]",
      "text/plain": [
       "<Figure size 1080x576 with 1 Axes>"
      ]
     },
     "metadata": {},
     "output_type": "display_data"
    }
   ],
   "source": [
    "plt.figure(figsize = (15, 8))\n",
    "plt.plot(range(1, EPOCHS + 1), final_train_acc, label = 'Train acc', marker = 'o')\n",
    "plt.plot(range(1, EPOCHS + 1), final_test_acc, label = 'Test acc', marker = 'o')\n",
    "\n",
    "plt.xlabel('Epoch')\n",
    "plt.ylabel('Accuracy')\n",
    "\n",
    "plt.legend()\n",
    "plt.tight_layout()\n",
    "\n",
    "plt.show(); plt.close('all')"
   ]
  },
  {
   "cell_type": "code",
   "execution_count": 58,
   "id": "c1a063cd",
   "metadata": {},
   "outputs": [],
   "source": [
    "MODEL_PATH = os.path.join(os.getcwd().replace('notebooks', 'artefacts'), 'saved-model.ckpt')\n",
    "MODEL_NAME = \"saved-model.ckpt\"\n",
    "torch.save(model.state_dict(), MODEL_NAME)"
   ]
  },
  {
   "cell_type": "code",
   "execution_count": null,
   "id": "2996f5c3",
   "metadata": {},
   "outputs": [],
   "source": []
  }
 ],
 "metadata": {
  "kernelspec": {
   "display_name": "Python 3 (ipykernel)",
   "language": "python",
   "name": "python3"
  },
  "language_info": {
   "codemirror_mode": {
    "name": "ipython",
    "version": 3
   },
   "file_extension": ".py",
   "mimetype": "text/x-python",
   "name": "python",
   "nbconvert_exporter": "python",
   "pygments_lexer": "ipython3",
   "version": "3.9.12"
  }
 },
 "nbformat": 4,
 "nbformat_minor": 5
}
