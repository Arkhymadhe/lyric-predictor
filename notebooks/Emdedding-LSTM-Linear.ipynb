{
 "cells": [
  {
   "cell_type": "markdown",
   "id": "a4f7b740",
   "metadata": {},
   "source": [
    "Steps:\n",
    "\n",
    "1. Load the data.\n",
    "2. Cast text to lower case.\n",
    "3. Eliminate punctuation.\n",
    "4. Get the maximum number of tokens in the data.\n",
    "5. Tokenize the data."
   ]
  },
  {
   "cell_type": "code",
   "execution_count": 1,
   "id": "f96de916",
   "metadata": {},
   "outputs": [],
   "source": [
    "import os\n",
    "import string\n",
    "import pandas as pd\n",
    "import numpy as np\n",
    "import matplotlib.pyplot as plt\n",
    "\n",
    "import torch\n",
    "from torch import nn\n",
    "from torch import optim\n",
    "from torch.utils.data import Dataset, DataLoader\n",
    "from torch.nn import functional as F\n",
    "\n",
    "from unidecode import unidecode\n",
    "from sklearn.metrics import accuracy_score\n",
    "\n",
    "from torch.utils.tensorboard import SummaryWriter\n",
    "from torchinfo import summary\n",
    "\n",
    "from jupyterthemes import jtplot"
   ]
  },
  {
   "cell_type": "code",
   "execution_count": 2,
   "id": "80b91226",
   "metadata": {},
   "outputs": [],
   "source": [
    "jtplot.style(\"gruvboxd\")"
   ]
  },
  {
   "cell_type": "code",
   "execution_count": 3,
   "id": "9c8ccb57",
   "metadata": {},
   "outputs": [
    {
     "data": {
      "text/plain": [
       "<torch.autograd.anomaly_mode.set_detect_anomaly at 0x20ff9bb50a0>"
      ]
     },
     "execution_count": 3,
     "metadata": {},
     "output_type": "execute_result"
    }
   ],
   "source": [
    "torch.autograd.set_detect_anomaly(True)"
   ]
  },
  {
   "cell_type": "code",
   "execution_count": null,
   "id": "2772d2d2",
   "metadata": {},
   "outputs": [],
   "source": [
    "### Reproducibility\n",
    "torch.manual_seed(42)\n",
    "os.environ['PYTHONHASHSEED'] = str(42)"
   ]
  },
  {
   "cell_type": "code",
   "execution_count": 4,
   "id": "e99667fd",
   "metadata": {},
   "outputs": [],
   "source": [
    "device = torch.device('cuda' if torch.cuda.is_available() else 'cpu')"
   ]
  },
  {
   "cell_type": "code",
   "execution_count": 5,
   "id": "2464850f",
   "metadata": {},
   "outputs": [
    {
     "name": "stdout",
     "output_type": "stream",
     "text": [
      "cuda\n"
     ]
    }
   ],
   "source": [
    "print(device)"
   ]
  },
  {
   "cell_type": "code",
   "execution_count": 6,
   "id": "f82b4ce3",
   "metadata": {},
   "outputs": [],
   "source": [
    "DATA_PATH = os.path.join(os.getcwd().replace('notebooks', 'data'), 'train.csv')\n",
    "data = pd.read_csv(DATA_PATH)"
   ]
  },
  {
   "cell_type": "code",
   "execution_count": 7,
   "id": "8c8fa0fe",
   "metadata": {},
   "outputs": [
    {
     "data": {
      "text/html": [
       "<div>\n",
       "<style scoped>\n",
       "    .dataframe tbody tr th:only-of-type {\n",
       "        vertical-align: middle;\n",
       "    }\n",
       "\n",
       "    .dataframe tbody tr th {\n",
       "        vertical-align: top;\n",
       "    }\n",
       "\n",
       "    .dataframe thead th {\n",
       "        text-align: right;\n",
       "    }\n",
       "</style>\n",
       "<table border=\"1\" class=\"dataframe\">\n",
       "  <thead>\n",
       "    <tr style=\"text-align: right;\">\n",
       "      <th></th>\n",
       "      <th>lyric</th>\n",
       "      <th>class</th>\n",
       "    </tr>\n",
       "  </thead>\n",
       "  <tbody>\n",
       "    <tr>\n",
       "      <th>0</th>\n",
       "      <td>Can't drink without thinkin' about you</td>\n",
       "      <td>1</td>\n",
       "    </tr>\n",
       "    <tr>\n",
       "      <th>1</th>\n",
       "      <td>Now Lil Pump flyin' private jet (Yuh)</td>\n",
       "      <td>0</td>\n",
       "    </tr>\n",
       "    <tr>\n",
       "      <th>2</th>\n",
       "      <td>No, matter fact, you ain't help me when I had ...</td>\n",
       "      <td>0</td>\n",
       "    </tr>\n",
       "    <tr>\n",
       "      <th>3</th>\n",
       "      <td>And you could find me, I ain't hidin'</td>\n",
       "      <td>0</td>\n",
       "    </tr>\n",
       "    <tr>\n",
       "      <th>4</th>\n",
       "      <td>From the way you talk to the way you move</td>\n",
       "      <td>1</td>\n",
       "    </tr>\n",
       "  </tbody>\n",
       "</table>\n",
       "</div>"
      ],
      "text/plain": [
       "                                               lyric  class\n",
       "0             Can't drink without thinkin' about you      1\n",
       "1              Now Lil Pump flyin' private jet (Yuh)      0\n",
       "2  No, matter fact, you ain't help me when I had ...      0\n",
       "3              And you could find me, I ain't hidin'      0\n",
       "4          From the way you talk to the way you move      1"
      ]
     },
     "execution_count": 7,
     "metadata": {},
     "output_type": "execute_result"
    }
   ],
   "source": [
    "data.head()"
   ]
  },
  {
   "cell_type": "code",
   "execution_count": 8,
   "id": "d08dd48b",
   "metadata": {},
   "outputs": [],
   "source": [
    "data['lyric'] = data['lyric'].str.lower()"
   ]
  },
  {
   "cell_type": "code",
   "execution_count": 9,
   "id": "7062b54d",
   "metadata": {},
   "outputs": [
    {
     "data": {
      "text/html": [
       "<div>\n",
       "<style scoped>\n",
       "    .dataframe tbody tr th:only-of-type {\n",
       "        vertical-align: middle;\n",
       "    }\n",
       "\n",
       "    .dataframe tbody tr th {\n",
       "        vertical-align: top;\n",
       "    }\n",
       "\n",
       "    .dataframe thead th {\n",
       "        text-align: right;\n",
       "    }\n",
       "</style>\n",
       "<table border=\"1\" class=\"dataframe\">\n",
       "  <thead>\n",
       "    <tr style=\"text-align: right;\">\n",
       "      <th></th>\n",
       "      <th>lyric</th>\n",
       "      <th>class</th>\n",
       "    </tr>\n",
       "  </thead>\n",
       "  <tbody>\n",
       "    <tr>\n",
       "      <th>0</th>\n",
       "      <td>can't drink without thinkin' about you</td>\n",
       "      <td>1</td>\n",
       "    </tr>\n",
       "    <tr>\n",
       "      <th>1</th>\n",
       "      <td>now lil pump flyin' private jet (yuh)</td>\n",
       "      <td>0</td>\n",
       "    </tr>\n",
       "    <tr>\n",
       "      <th>2</th>\n",
       "      <td>no, matter fact, you ain't help me when i had ...</td>\n",
       "      <td>0</td>\n",
       "    </tr>\n",
       "    <tr>\n",
       "      <th>3</th>\n",
       "      <td>and you could find me, i ain't hidin'</td>\n",
       "      <td>0</td>\n",
       "    </tr>\n",
       "    <tr>\n",
       "      <th>4</th>\n",
       "      <td>from the way you talk to the way you move</td>\n",
       "      <td>1</td>\n",
       "    </tr>\n",
       "  </tbody>\n",
       "</table>\n",
       "</div>"
      ],
      "text/plain": [
       "                                               lyric  class\n",
       "0             can't drink without thinkin' about you      1\n",
       "1              now lil pump flyin' private jet (yuh)      0\n",
       "2  no, matter fact, you ain't help me when i had ...      0\n",
       "3              and you could find me, i ain't hidin'      0\n",
       "4          from the way you talk to the way you move      1"
      ]
     },
     "execution_count": 9,
     "metadata": {},
     "output_type": "execute_result"
    }
   ],
   "source": [
    "data.head()"
   ]
  },
  {
   "cell_type": "code",
   "execution_count": 10,
   "id": "95d975bf",
   "metadata": {},
   "outputs": [],
   "source": [
    "def clear_punctuation(text):\n",
    "    text = ''.join([char for char in text if char not in all_punct])\n",
    "    return text"
   ]
  },
  {
   "cell_type": "code",
   "execution_count": 11,
   "id": "ad9fc833",
   "metadata": {},
   "outputs": [],
   "source": [
    "all_char = string.ascii_lowercase"
   ]
  },
  {
   "cell_type": "code",
   "execution_count": 12,
   "id": "2fad7ff8",
   "metadata": {},
   "outputs": [
    {
     "data": {
      "text/plain": [
       "'abcdefghijklmnopqrstuvwxyz'"
      ]
     },
     "execution_count": 12,
     "metadata": {},
     "output_type": "execute_result"
    }
   ],
   "source": [
    "all_char"
   ]
  },
  {
   "cell_type": "code",
   "execution_count": 13,
   "id": "1c87ad24",
   "metadata": {},
   "outputs": [],
   "source": [
    "all_punct = string.punctuation"
   ]
  },
  {
   "cell_type": "code",
   "execution_count": 14,
   "id": "19746830",
   "metadata": {},
   "outputs": [
    {
     "data": {
      "text/plain": [
       "'!\"#$%&\\'()*+,-./:;<=>?@[\\\\]^_`{|}~'"
      ]
     },
     "execution_count": 14,
     "metadata": {},
     "output_type": "execute_result"
    }
   ],
   "source": [
    "all_punct"
   ]
  },
  {
   "cell_type": "code",
   "execution_count": 15,
   "id": "e5f072e4",
   "metadata": {},
   "outputs": [],
   "source": [
    "data['lyric'] = data['lyric'].apply(clear_punctuation)"
   ]
  },
  {
   "cell_type": "code",
   "execution_count": 16,
   "id": "ea2fc143",
   "metadata": {},
   "outputs": [
    {
     "data": {
      "text/html": [
       "<div>\n",
       "<style scoped>\n",
       "    .dataframe tbody tr th:only-of-type {\n",
       "        vertical-align: middle;\n",
       "    }\n",
       "\n",
       "    .dataframe tbody tr th {\n",
       "        vertical-align: top;\n",
       "    }\n",
       "\n",
       "    .dataframe thead th {\n",
       "        text-align: right;\n",
       "    }\n",
       "</style>\n",
       "<table border=\"1\" class=\"dataframe\">\n",
       "  <thead>\n",
       "    <tr style=\"text-align: right;\">\n",
       "      <th></th>\n",
       "      <th>lyric</th>\n",
       "      <th>class</th>\n",
       "    </tr>\n",
       "  </thead>\n",
       "  <tbody>\n",
       "    <tr>\n",
       "      <th>0</th>\n",
       "      <td>cant drink without thinkin about you</td>\n",
       "      <td>1</td>\n",
       "    </tr>\n",
       "    <tr>\n",
       "      <th>1</th>\n",
       "      <td>now lil pump flyin private jet yuh</td>\n",
       "      <td>0</td>\n",
       "    </tr>\n",
       "    <tr>\n",
       "      <th>2</th>\n",
       "      <td>no matter fact you aint help me when i had no ...</td>\n",
       "      <td>0</td>\n",
       "    </tr>\n",
       "    <tr>\n",
       "      <th>3</th>\n",
       "      <td>and you could find me i aint hidin</td>\n",
       "      <td>0</td>\n",
       "    </tr>\n",
       "    <tr>\n",
       "      <th>4</th>\n",
       "      <td>from the way you talk to the way you move</td>\n",
       "      <td>1</td>\n",
       "    </tr>\n",
       "  </tbody>\n",
       "</table>\n",
       "</div>"
      ],
      "text/plain": [
       "                                               lyric  class\n",
       "0               cant drink without thinkin about you      1\n",
       "1                 now lil pump flyin private jet yuh      0\n",
       "2  no matter fact you aint help me when i had no ...      0\n",
       "3                 and you could find me i aint hidin      0\n",
       "4          from the way you talk to the way you move      1"
      ]
     },
     "execution_count": 16,
     "metadata": {},
     "output_type": "execute_result"
    }
   ],
   "source": [
    "data.head()"
   ]
  },
  {
   "cell_type": "code",
   "execution_count": 17,
   "id": "44969eef",
   "metadata": {},
   "outputs": [],
   "source": [
    "data['lyric_len'] = data['lyric'].apply(len)"
   ]
  },
  {
   "cell_type": "code",
   "execution_count": 18,
   "id": "d3c66a7a",
   "metadata": {},
   "outputs": [
    {
     "data": {
      "text/html": [
       "<div>\n",
       "<style scoped>\n",
       "    .dataframe tbody tr th:only-of-type {\n",
       "        vertical-align: middle;\n",
       "    }\n",
       "\n",
       "    .dataframe tbody tr th {\n",
       "        vertical-align: top;\n",
       "    }\n",
       "\n",
       "    .dataframe thead th {\n",
       "        text-align: right;\n",
       "    }\n",
       "</style>\n",
       "<table border=\"1\" class=\"dataframe\">\n",
       "  <thead>\n",
       "    <tr style=\"text-align: right;\">\n",
       "      <th></th>\n",
       "      <th>lyric</th>\n",
       "      <th>class</th>\n",
       "      <th>lyric_len</th>\n",
       "    </tr>\n",
       "  </thead>\n",
       "  <tbody>\n",
       "    <tr>\n",
       "      <th>0</th>\n",
       "      <td>cant drink without thinkin about you</td>\n",
       "      <td>1</td>\n",
       "      <td>36</td>\n",
       "    </tr>\n",
       "    <tr>\n",
       "      <th>1</th>\n",
       "      <td>now lil pump flyin private jet yuh</td>\n",
       "      <td>0</td>\n",
       "      <td>34</td>\n",
       "    </tr>\n",
       "    <tr>\n",
       "      <th>2</th>\n",
       "      <td>no matter fact you aint help me when i had no ...</td>\n",
       "      <td>0</td>\n",
       "      <td>51</td>\n",
       "    </tr>\n",
       "    <tr>\n",
       "      <th>3</th>\n",
       "      <td>and you could find me i aint hidin</td>\n",
       "      <td>0</td>\n",
       "      <td>34</td>\n",
       "    </tr>\n",
       "    <tr>\n",
       "      <th>4</th>\n",
       "      <td>from the way you talk to the way you move</td>\n",
       "      <td>1</td>\n",
       "      <td>41</td>\n",
       "    </tr>\n",
       "  </tbody>\n",
       "</table>\n",
       "</div>"
      ],
      "text/plain": [
       "                                               lyric  class  lyric_len\n",
       "0               cant drink without thinkin about you      1         36\n",
       "1                 now lil pump flyin private jet yuh      0         34\n",
       "2  no matter fact you aint help me when i had no ...      0         51\n",
       "3                 and you could find me i aint hidin      0         34\n",
       "4          from the way you talk to the way you move      1         41"
      ]
     },
     "execution_count": 18,
     "metadata": {},
     "output_type": "execute_result"
    }
   ],
   "source": [
    "data.head()"
   ]
  },
  {
   "cell_type": "code",
   "execution_count": 19,
   "id": "0c7c178a",
   "metadata": {},
   "outputs": [
    {
     "data": {
      "text/html": [
       "<div>\n",
       "<style scoped>\n",
       "    .dataframe tbody tr th:only-of-type {\n",
       "        vertical-align: middle;\n",
       "    }\n",
       "\n",
       "    .dataframe tbody tr th {\n",
       "        vertical-align: top;\n",
       "    }\n",
       "\n",
       "    .dataframe thead th {\n",
       "        text-align: right;\n",
       "    }\n",
       "</style>\n",
       "<table border=\"1\" class=\"dataframe\">\n",
       "  <thead>\n",
       "    <tr style=\"text-align: right;\">\n",
       "      <th></th>\n",
       "      <th>lyric</th>\n",
       "      <th>class</th>\n",
       "      <th>lyric_len</th>\n",
       "    </tr>\n",
       "  </thead>\n",
       "  <tbody>\n",
       "    <tr>\n",
       "      <th>41158</th>\n",
       "      <td>although the recent concerts of some of the bi...</td>\n",
       "      <td>0</td>\n",
       "      <td>345</td>\n",
       "    </tr>\n",
       "  </tbody>\n",
       "</table>\n",
       "</div>"
      ],
      "text/plain": [
       "                                                   lyric  class  lyric_len\n",
       "41158  although the recent concerts of some of the bi...      0        345"
      ]
     },
     "execution_count": 19,
     "metadata": {},
     "output_type": "execute_result"
    }
   ],
   "source": [
    "data.loc[data['lyric_len'] == max(data['lyric_len'])]"
   ]
  },
  {
   "cell_type": "code",
   "execution_count": 20,
   "id": "ab510634",
   "metadata": {},
   "outputs": [
    {
     "name": "stdout",
     "output_type": "stream",
     "text": [
      "lyric        cant drink without thinkin about you\n",
      "class                                           1\n",
      "lyric_len                                      36\n",
      "Name: 0, dtype: object\n"
     ]
    }
   ],
   "source": [
    "for row in data.iterrows():\n",
    "    print(row[1])\n",
    "    break"
   ]
  },
  {
   "cell_type": "markdown",
   "id": "8c172dde",
   "metadata": {},
   "source": [
    "The length of the texts are not symmetrical, so we need to pad the text."
   ]
  },
  {
   "cell_type": "code",
   "execution_count": 21,
   "id": "dd59fc80",
   "metadata": {},
   "outputs": [],
   "source": [
    "def pad_text(text, unk = '?', limit = 400):\n",
    "    if len(text) < limit:\n",
    "        text = text + unk*(limit - len(text))\n",
    "    else:\n",
    "        text = text[:limit-1]\n",
    "    return text"
   ]
  },
  {
   "cell_type": "code",
   "execution_count": 22,
   "id": "0b2941cb",
   "metadata": {},
   "outputs": [],
   "source": [
    "data['lyric'] = data['lyric'].apply(pad_text, **{\"limit\" : 400, \"unk\" : \"#\"})"
   ]
  },
  {
   "cell_type": "code",
   "execution_count": 23,
   "id": "3193c22f",
   "metadata": {},
   "outputs": [
    {
     "data": {
      "text/html": [
       "<div>\n",
       "<style scoped>\n",
       "    .dataframe tbody tr th:only-of-type {\n",
       "        vertical-align: middle;\n",
       "    }\n",
       "\n",
       "    .dataframe tbody tr th {\n",
       "        vertical-align: top;\n",
       "    }\n",
       "\n",
       "    .dataframe thead th {\n",
       "        text-align: right;\n",
       "    }\n",
       "</style>\n",
       "<table border=\"1\" class=\"dataframe\">\n",
       "  <thead>\n",
       "    <tr style=\"text-align: right;\">\n",
       "      <th></th>\n",
       "      <th>lyric</th>\n",
       "      <th>class</th>\n",
       "      <th>lyric_len</th>\n",
       "    </tr>\n",
       "  </thead>\n",
       "  <tbody>\n",
       "    <tr>\n",
       "      <th>0</th>\n",
       "      <td>cant drink without thinkin about you##########...</td>\n",
       "      <td>1</td>\n",
       "      <td>36</td>\n",
       "    </tr>\n",
       "    <tr>\n",
       "      <th>1</th>\n",
       "      <td>now lil pump flyin private jet yuh############...</td>\n",
       "      <td>0</td>\n",
       "      <td>34</td>\n",
       "    </tr>\n",
       "    <tr>\n",
       "      <th>2</th>\n",
       "      <td>no matter fact you aint help me when i had no ...</td>\n",
       "      <td>0</td>\n",
       "      <td>51</td>\n",
       "    </tr>\n",
       "    <tr>\n",
       "      <th>3</th>\n",
       "      <td>and you could find me i aint hidin############...</td>\n",
       "      <td>0</td>\n",
       "      <td>34</td>\n",
       "    </tr>\n",
       "    <tr>\n",
       "      <th>4</th>\n",
       "      <td>from the way you talk to the way you move#####...</td>\n",
       "      <td>1</td>\n",
       "      <td>41</td>\n",
       "    </tr>\n",
       "  </tbody>\n",
       "</table>\n",
       "</div>"
      ],
      "text/plain": [
       "                                               lyric  class  lyric_len\n",
       "0  cant drink without thinkin about you##########...      1         36\n",
       "1  now lil pump flyin private jet yuh############...      0         34\n",
       "2  no matter fact you aint help me when i had no ...      0         51\n",
       "3  and you could find me i aint hidin############...      0         34\n",
       "4  from the way you talk to the way you move#####...      1         41"
      ]
     },
     "execution_count": 23,
     "metadata": {},
     "output_type": "execute_result"
    }
   ],
   "source": [
    "data.head()"
   ]
  },
  {
   "cell_type": "code",
   "execution_count": 24,
   "id": "689977ff",
   "metadata": {},
   "outputs": [
    {
     "data": {
      "text/plain": [
       "'cant drink without thinkin about you############################################################################################################################################################################################################################################################################################################################################################################'"
      ]
     },
     "execution_count": 24,
     "metadata": {},
     "output_type": "execute_result"
    }
   ],
   "source": [
    "unidecode(data['lyric'][0])"
   ]
  },
  {
   "cell_type": "code",
   "execution_count": 25,
   "id": "ec366bf7",
   "metadata": {},
   "outputs": [],
   "source": [
    "all_char = '#' + ' ' + all_char + ''.join([str(n) for n in range(10)])"
   ]
  },
  {
   "cell_type": "code",
   "execution_count": 26,
   "id": "e2a0aab4",
   "metadata": {},
   "outputs": [
    {
     "data": {
      "text/plain": [
       "'# abcdefghijklmnopqrstuvwxyz0123456789'"
      ]
     },
     "execution_count": 26,
     "metadata": {},
     "output_type": "execute_result"
    }
   ],
   "source": [
    "all_char"
   ]
  },
  {
   "cell_type": "code",
   "execution_count": 27,
   "id": "1680765d",
   "metadata": {},
   "outputs": [],
   "source": [
    "char_dict = dict(enumerate(all_char, start = 0))\n",
    "char_dict = {v: k for k, v in char_dict.items()}"
   ]
  },
  {
   "cell_type": "code",
   "execution_count": 28,
   "id": "f44021e7",
   "metadata": {},
   "outputs": [
    {
     "data": {
      "text/plain": [
       "{'#': 0,\n",
       " ' ': 1,\n",
       " 'a': 2,\n",
       " 'b': 3,\n",
       " 'c': 4,\n",
       " 'd': 5,\n",
       " 'e': 6,\n",
       " 'f': 7,\n",
       " 'g': 8,\n",
       " 'h': 9,\n",
       " 'i': 10,\n",
       " 'j': 11,\n",
       " 'k': 12,\n",
       " 'l': 13,\n",
       " 'm': 14,\n",
       " 'n': 15,\n",
       " 'o': 16,\n",
       " 'p': 17,\n",
       " 'q': 18,\n",
       " 'r': 19,\n",
       " 's': 20,\n",
       " 't': 21,\n",
       " 'u': 22,\n",
       " 'v': 23,\n",
       " 'w': 24,\n",
       " 'x': 25,\n",
       " 'y': 26,\n",
       " 'z': 27,\n",
       " '0': 28,\n",
       " '1': 29,\n",
       " '2': 30,\n",
       " '3': 31,\n",
       " '4': 32,\n",
       " '5': 33,\n",
       " '6': 34,\n",
       " '7': 35,\n",
       " '8': 36,\n",
       " '9': 37}"
      ]
     },
     "execution_count": 28,
     "metadata": {},
     "output_type": "execute_result"
    }
   ],
   "source": [
    "char_dict"
   ]
  },
  {
   "cell_type": "code",
   "execution_count": 29,
   "id": "405495e3",
   "metadata": {},
   "outputs": [],
   "source": [
    "class TextDataset(Dataset):\n",
    "    def __init__(self, file):\n",
    "        self.file = file\n",
    "        self.texts = self.file['lyric']\n",
    "        self.labels = self.file['class']\n",
    "    def __len__(self):\n",
    "        return len(self.labels)\n",
    "    def __getitem__(self, ix):\n",
    "        return torch.tensor([char_dict[c] for c in self.texts[ix]]), self.labels[ix]"
   ]
  },
  {
   "cell_type": "code",
   "execution_count": 30,
   "id": "334fd654",
   "metadata": {},
   "outputs": [],
   "source": [
    "text_data = TextDataset(data)"
   ]
  },
  {
   "cell_type": "code",
   "execution_count": 31,
   "id": "b6815da9",
   "metadata": {},
   "outputs": [
    {
     "data": {
      "text/plain": [
       "51054"
      ]
     },
     "execution_count": 31,
     "metadata": {},
     "output_type": "execute_result"
    }
   ],
   "source": [
    "len(text_data)"
   ]
  },
  {
   "cell_type": "code",
   "execution_count": 32,
   "id": "a01e97dd",
   "metadata": {},
   "outputs": [
    {
     "data": {
      "text/plain": [
       "0        cant drink without thinkin about you##########...\n",
       "1        now lil pump flyin private jet yuh############...\n",
       "2        no matter fact you aint help me when i had no ...\n",
       "3        and you could find me i aint hidin############...\n",
       "4        from the way you talk to the way you move#####...\n",
       "                               ...                        \n",
       "51049    i told her pour me some more then she went rig...\n",
       "51050    hit the ground and crawl to the dresser#######...\n",
       "51051    just keep breathin and breathin and breathin a...\n",
       "51052    down go the system long live the king king####...\n",
       "51053    if your mother knew all the things we do from ...\n",
       "Name: lyric, Length: 51054, dtype: object"
      ]
     },
     "execution_count": 32,
     "metadata": {},
     "output_type": "execute_result"
    }
   ],
   "source": [
    "text_data.texts"
   ]
  },
  {
   "cell_type": "code",
   "execution_count": 33,
   "id": "9989b786",
   "metadata": {},
   "outputs": [
    {
     "data": {
      "text/plain": [
       "(tensor([ 4,  2, 15, 21,  1,  5, 19, 10, 15, 12,  1, 24, 10, 21,  9, 16, 22, 21,\n",
       "          1, 21,  9, 10, 15, 12, 10, 15,  1,  2,  3, 16, 22, 21,  1, 26, 16, 22,\n",
       "          0,  0,  0,  0,  0,  0,  0,  0,  0,  0,  0,  0,  0,  0,  0,  0,  0,  0,\n",
       "          0,  0,  0,  0,  0,  0,  0,  0,  0,  0,  0,  0,  0,  0,  0,  0,  0,  0,\n",
       "          0,  0,  0,  0,  0,  0,  0,  0,  0,  0,  0,  0,  0,  0,  0,  0,  0,  0,\n",
       "          0,  0,  0,  0,  0,  0,  0,  0,  0,  0,  0,  0,  0,  0,  0,  0,  0,  0,\n",
       "          0,  0,  0,  0,  0,  0,  0,  0,  0,  0,  0,  0,  0,  0,  0,  0,  0,  0,\n",
       "          0,  0,  0,  0,  0,  0,  0,  0,  0,  0,  0,  0,  0,  0,  0,  0,  0,  0,\n",
       "          0,  0,  0,  0,  0,  0,  0,  0,  0,  0,  0,  0,  0,  0,  0,  0,  0,  0,\n",
       "          0,  0,  0,  0,  0,  0,  0,  0,  0,  0,  0,  0,  0,  0,  0,  0,  0,  0,\n",
       "          0,  0,  0,  0,  0,  0,  0,  0,  0,  0,  0,  0,  0,  0,  0,  0,  0,  0,\n",
       "          0,  0,  0,  0,  0,  0,  0,  0,  0,  0,  0,  0,  0,  0,  0,  0,  0,  0,\n",
       "          0,  0,  0,  0,  0,  0,  0,  0,  0,  0,  0,  0,  0,  0,  0,  0,  0,  0,\n",
       "          0,  0,  0,  0,  0,  0,  0,  0,  0,  0,  0,  0,  0,  0,  0,  0,  0,  0,\n",
       "          0,  0,  0,  0,  0,  0,  0,  0,  0,  0,  0,  0,  0,  0,  0,  0,  0,  0,\n",
       "          0,  0,  0,  0,  0,  0,  0,  0,  0,  0,  0,  0,  0,  0,  0,  0,  0,  0,\n",
       "          0,  0,  0,  0,  0,  0,  0,  0,  0,  0,  0,  0,  0,  0,  0,  0,  0,  0,\n",
       "          0,  0,  0,  0,  0,  0,  0,  0,  0,  0,  0,  0,  0,  0,  0,  0,  0,  0,\n",
       "          0,  0,  0,  0,  0,  0,  0,  0,  0,  0,  0,  0,  0,  0,  0,  0,  0,  0,\n",
       "          0,  0,  0,  0,  0,  0,  0,  0,  0,  0,  0,  0,  0,  0,  0,  0,  0,  0,\n",
       "          0,  0,  0,  0,  0,  0,  0,  0,  0,  0,  0,  0,  0,  0,  0,  0,  0,  0,\n",
       "          0,  0,  0,  0,  0,  0,  0,  0,  0,  0,  0,  0,  0,  0,  0,  0,  0,  0,\n",
       "          0,  0,  0,  0]),\n",
       " 1)"
      ]
     },
     "execution_count": 33,
     "metadata": {},
     "output_type": "execute_result"
    }
   ],
   "source": [
    "next(iter(text_data))"
   ]
  },
  {
   "cell_type": "code",
   "execution_count": 34,
   "id": "f65a34a6",
   "metadata": {},
   "outputs": [
    {
     "data": {
      "text/plain": [
       "31"
      ]
     },
     "execution_count": 34,
     "metadata": {},
     "output_type": "execute_result"
    }
   ],
   "source": [
    "char_dict['3']"
   ]
  },
  {
   "cell_type": "code",
   "execution_count": 35,
   "id": "8e68da67",
   "metadata": {},
   "outputs": [],
   "source": [
    "BATCH_SIZE = 32\n",
    "SEQ_LEN = 256\n",
    "HIDDEN_SIZE = 256\n",
    "TEST_SIZE = 6000"
   ]
  },
  {
   "cell_type": "code",
   "execution_count": 36,
   "id": "39f14852",
   "metadata": {},
   "outputs": [],
   "source": [
    "train_ds, test_ds = torch.utils.data.random_split(text_data, lengths = [len(text_data) - TEST_SIZE, TEST_SIZE])"
   ]
  },
  {
   "cell_type": "code",
   "execution_count": 37,
   "id": "5ac0f033",
   "metadata": {},
   "outputs": [
    {
     "data": {
      "text/plain": [
       "45054"
      ]
     },
     "execution_count": 37,
     "metadata": {},
     "output_type": "execute_result"
    }
   ],
   "source": [
    "len(train_ds)"
   ]
  },
  {
   "cell_type": "code",
   "execution_count": 38,
   "id": "a068f105",
   "metadata": {},
   "outputs": [
    {
     "data": {
      "text/plain": [
       "6000"
      ]
     },
     "execution_count": 38,
     "metadata": {},
     "output_type": "execute_result"
    }
   ],
   "source": [
    "len(test_ds)"
   ]
  },
  {
   "cell_type": "code",
   "execution_count": 39,
   "id": "73aa5687",
   "metadata": {},
   "outputs": [],
   "source": [
    "train_dl = DataLoader(train_ds, batch_size = BATCH_SIZE, drop_last = True, shuffle = True)"
   ]
  },
  {
   "cell_type": "code",
   "execution_count": 40,
   "id": "e63e9307",
   "metadata": {},
   "outputs": [],
   "source": [
    "test_dl = DataLoader(test_ds, batch_size = BATCH_SIZE, drop_last = True, shuffle = True)"
   ]
  },
  {
   "cell_type": "code",
   "execution_count": 41,
   "id": "b9bdc2da",
   "metadata": {},
   "outputs": [],
   "source": [
    "class LyricModel(nn.Module):\n",
    "    def __init__(self, batch_size = 32, num_layers = 2, bidirectional = True, hidden_size = 128, embedding_dim = 64):\n",
    "        super(LyricModel, self).__init__()\n",
    "        \n",
    "        self.hidden = hidden_size\n",
    "        self.batch_size = batch_size\n",
    "        self.embedding_dim = embedding_dim\n",
    "        self.num_layers = num_layers\n",
    "        self.bidirectional = bidirectional\n",
    "        self.in_features = self.hidden * (int(self.bidirectional) + 1)\n",
    "        \n",
    "        self.embedder = nn.Embedding(num_embeddings = len(char_dict), embedding_dim = self.embedding_dim)\n",
    "        \n",
    "        self.lstm = nn.LSTM(input_size = self.embedding_dim, hidden_size = self.hidden, batch_first = True,\n",
    "                            num_layers = self.num_layers, bidirectional = self.bidirectional)\n",
    "        self.dropout = nn.Dropout(p = 0.1)\n",
    "        \n",
    "        self.linear1 = nn.Linear(self.in_features, self.in_features//2)\n",
    "        self.linear2 = nn.Linear(self.in_features//2, 64)\n",
    "        self.linear3 = nn.Linear(64, 1)\n",
    "        \n",
    "        self.b1 = nn.BatchNorm1d(self.in_features//2, momentum = 0.1)\n",
    "        self.b2 = nn.BatchNorm1d(64, momentum = 0.1)\n",
    "        \n",
    "    def forward(self, x, state):\n",
    "        x = self.embedder(x)\n",
    "        y, (h, c) = self.lstm(x, state)\n",
    "        \n",
    "        last_output = y[:, -1, :].contiguous().view(-1, self.in_features)\n",
    "        last_output = self.dropout(last_output)\n",
    "        \n",
    "        y = F.leaky_relu(self.linear1(last_output), .1)\n",
    "        y = self.b1(y)\n",
    "        y = F.leaky_relu(self.linear2(y), .1)\n",
    "        y = self.b2(y)\n",
    "        y = self.linear3(y).squeeze()\n",
    "        \n",
    "        return torch.sigmoid(y), (h, c)\n",
    "    \n",
    "    def init_hidden_state(self, mean, stddev):\n",
    "        \"\"\"\n",
    "        Initialize hidden state and context tensors.\n",
    "        \"\"\"\n",
    "        h = torch.distributions.Normal(mean, stddev).sample(((int(self.bidirectional) + 1)*self.num_layers,\\\n",
    "                                                             self.batch_size, self.hidden))\n",
    "        c = torch.distributions.Normal(mean, stddev).sample(((int(self.bidirectional) + 1)*self.num_layers, \\\n",
    "                                                             self.batch_size, self.hidden))\n",
    "        \n",
    "        return (h.to(device), c.to(device))"
   ]
  },
  {
   "cell_type": "code",
   "execution_count": 42,
   "id": "dbcfa3e7",
   "metadata": {},
   "outputs": [],
   "source": [
    "def initialize_weights(model):\n",
    "    for layer in model.modules():\n",
    "        if layer.__class__.__name__.__contains__('Linear'):\n",
    "            nn.init.normal_(layer.weight.data, 1, 0.02)\n",
    "            nn.init.normal_(layer.bias.data, 0, 0.02)\n",
    "        elif layer.__class__.__name__.__contains__('LSTM'):\n",
    "            for param in layer.parameters():\n",
    "                nn.init.normal_(param.data, 0, 0.2)\n",
    "        else:\n",
    "            pass\n",
    "    return None"
   ]
  },
  {
   "cell_type": "code",
   "execution_count": 43,
   "id": "d21bf947",
   "metadata": {},
   "outputs": [
    {
     "data": {
      "text/plain": [
       "LyricModel(\n",
       "  (embedder): Embedding(38, 256)\n",
       "  (lstm): LSTM(256, 256, batch_first=True, bidirectional=True)\n",
       "  (dropout): Dropout(p=0.1, inplace=False)\n",
       "  (linear1): Linear(in_features=512, out_features=256, bias=True)\n",
       "  (linear2): Linear(in_features=256, out_features=64, bias=True)\n",
       "  (linear3): Linear(in_features=64, out_features=1, bias=True)\n",
       "  (b1): BatchNorm1d(256, eps=1e-05, momentum=0.1, affine=True, track_running_stats=True)\n",
       "  (b2): BatchNorm1d(64, eps=1e-05, momentum=0.1, affine=True, track_running_stats=True)\n",
       ")"
      ]
     },
     "execution_count": 43,
     "metadata": {},
     "output_type": "execute_result"
    }
   ],
   "source": [
    "model = LyricModel(num_layers = 1, hidden_size = HIDDEN_SIZE, embedding_dim = SEQ_LEN)\n",
    "model.to(device)"
   ]
  },
  {
   "cell_type": "code",
   "execution_count": 44,
   "id": "cf1b41c5",
   "metadata": {},
   "outputs": [],
   "source": [
    "x, h = [torch.randint(low = 0, high = 10, size = (32, SEQ_LEN)).to(device),\n",
    "        (torch.randn(2, 32, 256).to(device), torch.randn(2, 32, 256).to(device))]"
   ]
  },
  {
   "cell_type": "code",
   "execution_count": 45,
   "id": "a18c4274",
   "metadata": {},
   "outputs": [
    {
     "data": {
      "text/plain": [
       "==========================================================================================\n",
       "Layer (type:depth-idx)                   Output Shape              Param #\n",
       "==========================================================================================\n",
       "LyricModel                               [32]                      --\n",
       "├─Embedding: 1-1                         [32, 256, 256]            9,728\n",
       "├─LSTM: 1-2                              [32, 256, 512]            1,052,672\n",
       "├─Dropout: 1-3                           [32, 512]                 --\n",
       "├─Linear: 1-4                            [32, 256]                 131,328\n",
       "├─BatchNorm1d: 1-5                       [32, 256]                 512\n",
       "├─Linear: 1-6                            [32, 64]                  16,448\n",
       "├─BatchNorm1d: 1-7                       [32, 64]                  128\n",
       "├─Linear: 1-8                            [32, 1]                   65\n",
       "==========================================================================================\n",
       "Total params: 1,210,881\n",
       "Trainable params: 1,210,881\n",
       "Non-trainable params: 0\n",
       "Total mult-adds (G): 8.63\n",
       "==========================================================================================\n",
       "Input size (MB): 0.20\n",
       "Forward/backward pass size (MB): 50.50\n",
       "Params size (MB): 4.84\n",
       "Estimated Total Size (MB): 55.54\n",
       "=========================================================================================="
      ]
     },
     "execution_count": 45,
     "metadata": {},
     "output_type": "execute_result"
    }
   ],
   "source": [
    "### Model summary\n",
    "summary(model, input_data = [x, h])"
   ]
  },
  {
   "cell_type": "code",
   "execution_count": 46,
   "id": "edda9b09",
   "metadata": {},
   "outputs": [
    {
     "name": "stdout",
     "output_type": "stream",
     "text": [
      "Param embedder.weight, shape: torch.Size([38, 256])\n",
      "Param lstm.weight_ih_l0, shape: torch.Size([1024, 256])\n",
      "Param lstm.weight_hh_l0, shape: torch.Size([1024, 256])\n",
      "Param lstm.bias_ih_l0, shape: torch.Size([1024])\n",
      "Param lstm.bias_hh_l0, shape: torch.Size([1024])\n",
      "Param lstm.weight_ih_l0_reverse, shape: torch.Size([1024, 256])\n",
      "Param lstm.weight_hh_l0_reverse, shape: torch.Size([1024, 256])\n",
      "Param lstm.bias_ih_l0_reverse, shape: torch.Size([1024])\n",
      "Param lstm.bias_hh_l0_reverse, shape: torch.Size([1024])\n",
      "Param linear1.weight, shape: torch.Size([256, 512])\n",
      "Param linear1.bias, shape: torch.Size([256])\n",
      "Param linear2.weight, shape: torch.Size([64, 256])\n",
      "Param linear2.bias, shape: torch.Size([64])\n",
      "Param linear3.weight, shape: torch.Size([1, 64])\n",
      "Param linear3.bias, shape: torch.Size([1])\n",
      "Param b1.weight, shape: torch.Size([256])\n",
      "Param b1.bias, shape: torch.Size([256])\n",
      "Param b2.weight, shape: torch.Size([64])\n",
      "Param b2.bias, shape: torch.Size([64])\n"
     ]
    }
   ],
   "source": [
    "for name, param in model.named_parameters():\n",
    "    print(f\"Param {name}, shape: {param.data.shape}\")"
   ]
  },
  {
   "cell_type": "code",
   "execution_count": 47,
   "id": "4b185cba",
   "metadata": {},
   "outputs": [
    {
     "data": {
      "text/plain": [
       "LyricModel(\n",
       "  (embedder): Embedding(38, 256)\n",
       "  (lstm): LSTM(256, 256, batch_first=True, bidirectional=True)\n",
       "  (dropout): Dropout(p=0.1, inplace=False)\n",
       "  (linear1): Linear(in_features=512, out_features=256, bias=True)\n",
       "  (linear2): Linear(in_features=256, out_features=64, bias=True)\n",
       "  (linear3): Linear(in_features=64, out_features=1, bias=True)\n",
       "  (b1): BatchNorm1d(256, eps=1e-05, momentum=0.1, affine=True, track_running_stats=True)\n",
       "  (b2): BatchNorm1d(64, eps=1e-05, momentum=0.1, affine=True, track_running_stats=True)\n",
       ")"
      ]
     },
     "execution_count": 47,
     "metadata": {},
     "output_type": "execute_result"
    }
   ],
   "source": [
    "model = LyricModel(num_layers = 1, hidden_size = HIDDEN_SIZE, embedding_dim = SEQ_LEN)\n",
    "model.to(device)"
   ]
  },
  {
   "cell_type": "code",
   "execution_count": 48,
   "id": "e8c652ce",
   "metadata": {},
   "outputs": [
    {
     "data": {
      "text/plain": [
       "LyricModel(\n",
       "  (embedder): Embedding(38, 256)\n",
       "  (lstm): LSTM(256, 256, batch_first=True, bidirectional=True)\n",
       "  (dropout): Dropout(p=0.1, inplace=False)\n",
       "  (linear1): Linear(in_features=512, out_features=256, bias=True)\n",
       "  (linear2): Linear(in_features=256, out_features=64, bias=True)\n",
       "  (linear3): Linear(in_features=64, out_features=1, bias=True)\n",
       "  (b1): BatchNorm1d(256, eps=1e-05, momentum=0.1, affine=True, track_running_stats=True)\n",
       "  (b2): BatchNorm1d(64, eps=1e-05, momentum=0.1, affine=True, track_running_stats=True)\n",
       ")"
      ]
     },
     "execution_count": 48,
     "metadata": {},
     "output_type": "execute_result"
    }
   ],
   "source": [
    "model.to(device)\n",
    "model.apply(initialize_weights)"
   ]
  },
  {
   "cell_type": "code",
   "execution_count": 49,
   "id": "c2fafc02",
   "metadata": {},
   "outputs": [],
   "source": [
    "EPOCHS = 100\n",
    "lr = 1e-4\n",
    "betas = (0.5, 0.999)"
   ]
  },
  {
   "cell_type": "code",
   "execution_count": 50,
   "id": "322b86dd",
   "metadata": {},
   "outputs": [],
   "source": [
    "opt = optim.Adam(params = model.parameters(), lr = lr, betas = betas)\n",
    "scheduler = optim.lr_scheduler.CosineAnnealingLR(opt, 1200)\n",
    "criterion = nn.BCELoss().to(device)"
   ]
  },
  {
   "cell_type": "code",
   "execution_count": 51,
   "id": "c1f5532e",
   "metadata": {},
   "outputs": [],
   "source": [
    "writer = SummaryWriter(log_dir = \"runs/test\")"
   ]
  },
  {
   "cell_type": "code",
   "execution_count": 52,
   "id": "d1dee895",
   "metadata": {},
   "outputs": [],
   "source": [
    "writer.add_graph(model = model, input_to_model = (x, h))"
   ]
  },
  {
   "cell_type": "code",
   "execution_count": 53,
   "id": "8bc4a2a1",
   "metadata": {},
   "outputs": [],
   "source": [
    "model.zero_grad()"
   ]
  },
  {
   "cell_type": "code",
   "execution_count": 54,
   "id": "a65e0761",
   "metadata": {
    "scrolled": true
   },
   "outputs": [
    {
     "name": "stdout",
     "output_type": "stream",
     "text": [
      "Training for 100 epochs and 1407 training iterations...\n",
      "\n",
      "Epoch [ 1/100]\n",
      "   Train loss:  13.285 || Test loss:  5.357\n",
      "   Train acc.:  0.543 || Test acc.:  0.556\n",
      "\n",
      "Epoch [ 2/100]\n",
      "   Train loss:  7.555 || Test loss:  5.907\n",
      "   Train acc.:  0.524 || Test acc.:  0.554\n",
      "\n",
      "Epoch [ 3/100]\n",
      "   Train loss:  6.912 || Test loss:  5.635\n",
      "   Train acc.:  0.498 || Test acc.:  0.553\n",
      "\n",
      "Epoch [ 4/100]\n",
      "   Train loss:  6.305 || Test loss:  4.153\n",
      "   Train acc.:  0.496 || Test acc.:  0.531\n",
      "\n",
      "Epoch [ 5/100]\n",
      "   Train loss:  5.616 || Test loss:  4.418\n",
      "   Train acc.:  0.502 || Test acc.:  0.480\n",
      "\n",
      "Epoch [ 6/100]\n",
      "   Train loss:  5.267 || Test loss:  4.741\n",
      "   Train acc.:  0.504 || Test acc.:  0.498\n",
      "\n",
      "Epoch [ 7/100]\n",
      "   Train loss:  4.464 || Test loss:  2.914\n",
      "   Train acc.:  0.501 || Test acc.:  0.544\n",
      "\n",
      "Epoch [ 8/100]\n",
      "   Train loss:  4.191 || Test loss:  2.894\n",
      "   Train acc.:  0.501 || Test acc.:  0.557\n",
      "\n",
      "Epoch [ 9/100]\n",
      "   Train loss:  3.960 || Test loss:  2.876\n",
      "   Train acc.:  0.500 || Test acc.:  0.472\n",
      "\n",
      "Epoch [ 10/100]\n",
      "   Train loss:  3.659 || Test loss:  2.758\n",
      "   Train acc.:  0.505 || Test acc.:  0.562\n",
      "\n",
      "Epoch [ 11/100]\n",
      "   Train loss:  2.049 || Test loss:  0.757\n",
      "   Train acc.:  0.517 || Test acc.:  0.558\n",
      "\n",
      "Epoch [ 12/100]\n",
      "   Train loss:  0.701 || Test loss:  0.689\n",
      "   Train acc.:  0.545 || Test acc.:  0.571\n",
      "\n",
      "Epoch [ 13/100]\n",
      "   Train loss:  0.688 || Test loss:  0.686\n",
      "   Train acc.:  0.565 || Test acc.:  0.571\n",
      "\n",
      "Epoch [ 14/100]\n",
      "   Train loss:  0.686 || Test loss:  0.684\n",
      "   Train acc.:  0.565 || Test acc.:  0.571\n",
      "\n",
      "Epoch [ 15/100]\n",
      "   Train loss:  0.685 || Test loss:  0.684\n",
      "   Train acc.:  0.565 || Test acc.:  0.569\n",
      "\n",
      "Epoch [ 16/100]\n",
      "   Train loss:  0.685 || Test loss:  0.683\n",
      "   Train acc.:  0.565 || Test acc.:  0.571\n",
      "\n",
      "Epoch [ 17/100]\n",
      "   Train loss:  0.685 || Test loss:  0.683\n",
      "   Train acc.:  0.565 || Test acc.:  0.571\n",
      "\n",
      "Epoch [ 18/100]\n",
      "   Train loss:  0.684 || Test loss:  0.674\n",
      "   Train acc.:  0.565 || Test acc.:  0.593\n",
      "\n",
      "Epoch [ 19/100]\n",
      "   Train loss:  0.652 || Test loss:  0.619\n",
      "   Train acc.:  0.627 || Test acc.:  0.671\n",
      "\n",
      "Epoch [ 20/100]\n",
      "   Train loss:  0.584 || Test loss:  0.554\n",
      "   Train acc.:  0.710 || Test acc.:  0.744\n",
      "\n",
      "Epoch [ 21/100]\n",
      "   Train loss:  0.529 || Test loss:  0.537\n",
      "   Train acc.:  0.759 || Test acc.:  0.752\n",
      "\n",
      "Epoch [ 22/100]\n",
      "   Train loss:  0.489 || Test loss:  0.504\n",
      "   Train acc.:  0.792 || Test acc.:  0.777\n",
      "\n",
      "Epoch [ 23/100]\n",
      "   Train loss:  0.453 || Test loss:  0.483\n",
      "   Train acc.:  0.816 || Test acc.:  0.792\n",
      "\n",
      "Epoch [ 24/100]\n",
      "   Train loss:  0.423 || Test loss:  0.480\n",
      "   Train acc.:  0.834 || Test acc.:  0.798\n",
      "\n",
      "Epoch [ 25/100]\n",
      "   Train loss:  0.397 || Test loss:  0.475\n",
      "   Train acc.:  0.849 || Test acc.:  0.801\n",
      "\n",
      "Epoch [ 26/100]\n",
      "   Train loss:  0.373 || Test loss:  0.476\n",
      "   Train acc.:  0.865 || Test acc.:  0.808\n",
      "\n",
      "Epoch [ 27/100]\n",
      "   Train loss:  0.349 || Test loss:  0.471\n",
      "   Train acc.:  0.878 || Test acc.:  0.809\n",
      "\n",
      "Epoch [ 28/100]\n",
      "   Train loss:  0.330 || Test loss:  0.464\n",
      "   Train acc.:  0.888 || Test acc.:  0.822\n",
      "\n",
      "Epoch [ 29/100]\n",
      "   Train loss:  0.311 || Test loss:  0.475\n",
      "   Train acc.:  0.897 || Test acc.:  0.814\n",
      "\n",
      "Epoch [ 30/100]\n",
      "   Train loss:  0.298 || Test loss:  0.475\n",
      "   Train acc.:  0.904 || Test acc.:  0.819\n",
      "\n",
      "Epoch [ 31/100]\n",
      "   Train loss:  0.285 || Test loss:  0.482\n",
      "   Train acc.:  0.911 || Test acc.:  0.821\n",
      "\n",
      "Epoch [ 32/100]\n",
      "   Train loss:  0.275 || Test loss:  0.475\n",
      "   Train acc.:  0.916 || Test acc.:  0.828\n",
      "\n",
      "Epoch [ 33/100]\n",
      "   Train loss:  0.265 || Test loss:  0.483\n",
      "   Train acc.:  0.920 || Test acc.:  0.823\n",
      "\n",
      "Epoch [ 34/100]\n",
      "   Train loss:  0.256 || Test loss:  0.475\n",
      "   Train acc.:  0.924 || Test acc.:  0.834\n",
      "\n",
      "Epoch [ 35/100]\n",
      "   Train loss:  0.248 || Test loss:  0.498\n",
      "   Train acc.:  0.928 || Test acc.:  0.825\n",
      "\n",
      "Epoch [ 36/100]\n",
      "   Train loss:  0.245 || Test loss:  0.481\n",
      "   Train acc.:  0.928 || Test acc.:  0.833\n",
      "\n",
      "Epoch [ 37/100]\n",
      "   Train loss:  0.244 || Test loss:  0.482\n",
      "   Train acc.:  0.929 || Test acc.:  0.834\n",
      "\n",
      "Epoch [ 38/100]\n",
      "   Train loss:  0.236 || Test loss:  0.485\n",
      "   Train acc.:  0.933 || Test acc.:  0.834\n",
      "\n",
      "Epoch [ 39/100]\n",
      "   Train loss:  0.234 || Test loss:  0.510\n",
      "   Train acc.:  0.933 || Test acc.:  0.821\n",
      "\n",
      "Epoch [ 40/100]\n",
      "   Train loss:  0.230 || Test loss:  0.483\n",
      "   Train acc.:  0.935 || Test acc.:  0.834\n",
      "\n",
      "Epoch [ 41/100]\n",
      "   Train loss:  0.224 || Test loss:  0.508\n",
      "   Train acc.:  0.938 || Test acc.:  0.831\n",
      "\n",
      "Epoch [ 42/100]\n",
      "   Train loss:  0.217 || Test loss:  0.493\n",
      "   Train acc.:  0.941 || Test acc.:  0.836\n",
      "\n",
      "Epoch [ 43/100]\n",
      "   Train loss:  0.213 || Test loss:  0.508\n",
      "   Train acc.:  0.942 || Test acc.:  0.827\n",
      "\n",
      "Epoch [ 44/100]\n",
      "   Train loss:  0.212 || Test loss:  0.501\n",
      "   Train acc.:  0.943 || Test acc.:  0.835\n",
      "\n",
      "Epoch [ 45/100]\n",
      "   Train loss:  0.208 || Test loss:  0.494\n",
      "   Train acc.:  0.944 || Test acc.:  0.837\n",
      "\n",
      "Epoch [ 46/100]\n",
      "   Train loss:  0.204 || Test loss:  0.507\n",
      "   Train acc.:  0.946 || Test acc.:  0.834\n",
      "\n",
      "Epoch [ 47/100]\n",
      "   Train loss:  0.199 || Test loss:  0.500\n",
      "   Train acc.:  0.947 || Test acc.:  0.835\n",
      "\n",
      "Epoch [ 48/100]\n",
      "   Train loss:  0.198 || Test loss:  0.522\n",
      "   Train acc.:  0.948 || Test acc.:  0.827\n",
      "\n",
      "Epoch [ 49/100]\n",
      "   Train loss:  0.203 || Test loss:  0.493\n",
      "   Train acc.:  0.947 || Test acc.:  0.838\n",
      "\n",
      "Epoch [ 50/100]\n",
      "   Train loss:  0.195 || Test loss:  0.487\n",
      "   Train acc.:  0.949 || Test acc.:  0.840\n",
      "\n",
      "Epoch [ 51/100]\n",
      "   Train loss:  0.193 || Test loss:  0.508\n",
      "   Train acc.:  0.950 || Test acc.:  0.836\n",
      "\n",
      "Epoch [ 52/100]\n",
      "   Train loss:  0.189 || Test loss:  0.505\n",
      "   Train acc.:  0.952 || Test acc.:  0.836\n",
      "\n",
      "Epoch [ 53/100]\n",
      "   Train loss:  0.188 || Test loss:  0.501\n",
      "   Train acc.:  0.952 || Test acc.:  0.843\n",
      "\n",
      "Epoch [ 54/100]\n",
      "   Train loss:  0.189 || Test loss:  0.492\n",
      "   Train acc.:  0.952 || Test acc.:  0.842\n",
      "\n",
      "Epoch [ 55/100]\n",
      "   Train loss:  0.183 || Test loss:  0.493\n",
      "   Train acc.:  0.953 || Test acc.:  0.845\n",
      "\n",
      "Epoch [ 56/100]\n",
      "   Train loss:  0.184 || Test loss:  0.493\n",
      "   Train acc.:  0.953 || Test acc.:  0.845\n",
      "\n",
      "Epoch [ 57/100]\n",
      "   Train loss:  0.185 || Test loss:  0.514\n",
      "   Train acc.:  0.952 || Test acc.:  0.837\n",
      "\n",
      "Epoch [ 58/100]\n",
      "   Train loss:  0.179 || Test loss:  0.486\n",
      "   Train acc.:  0.955 || Test acc.:  0.845\n",
      "\n",
      "Epoch [ 59/100]\n",
      "   Train loss:  0.177 || Test loss:  0.498\n",
      "   Train acc.:  0.956 || Test acc.:  0.844\n",
      "\n",
      "Epoch [ 60/100]\n",
      "   Train loss:  0.177 || Test loss:  0.522\n",
      "   Train acc.:  0.956 || Test acc.:  0.840\n",
      "\n",
      "Epoch [ 61/100]\n",
      "   Train loss:  0.173 || Test loss:  0.534\n",
      "   Train acc.:  0.957 || Test acc.:  0.835\n",
      "\n",
      "Epoch [ 62/100]\n",
      "   Train loss:  0.175 || Test loss:  0.500\n",
      "   Train acc.:  0.957 || Test acc.:  0.843\n",
      "\n",
      "Epoch [ 63/100]\n",
      "   Train loss:  0.173 || Test loss:  0.546\n",
      "   Train acc.:  0.958 || Test acc.:  0.830\n",
      "\n",
      "Epoch [ 64/100]\n",
      "   Train loss:  0.173 || Test loss:  0.499\n",
      "   Train acc.:  0.957 || Test acc.:  0.845\n",
      "\n",
      "Epoch [ 65/100]\n",
      "   Train loss:  0.171 || Test loss:  0.528\n",
      "   Train acc.:  0.958 || Test acc.:  0.836\n",
      "\n",
      "Epoch [ 66/100]\n",
      "   Train loss:  0.172 || Test loss:  0.520\n",
      "   Train acc.:  0.958 || Test acc.:  0.837\n",
      "\n",
      "Epoch [ 67/100]\n",
      "   Train loss:  0.173 || Test loss:  0.510\n",
      "   Train acc.:  0.957 || Test acc.:  0.841\n",
      "\n",
      "Epoch [ 68/100]\n",
      "   Train loss:  0.170 || Test loss:  0.520\n",
      "   Train acc.:  0.958 || Test acc.:  0.842\n",
      "\n",
      "Epoch [ 69/100]\n",
      "   Train loss:  0.168 || Test loss:  0.543\n",
      "   Train acc.:  0.959 || Test acc.:  0.836\n",
      "\n",
      "Epoch [ 70/100]\n",
      "   Train loss:  0.169 || Test loss:  0.520\n",
      "   Train acc.:  0.959 || Test acc.:  0.843\n",
      "\n",
      "Epoch [ 71/100]\n",
      "   Train loss:  0.169 || Test loss:  0.509\n",
      "   Train acc.:  0.958 || Test acc.:  0.837\n",
      "\n",
      "Epoch [ 72/100]\n",
      "   Train loss:  0.166 || Test loss:  0.530\n",
      "   Train acc.:  0.960 || Test acc.:  0.841\n",
      "\n",
      "Epoch [ 73/100]\n",
      "   Train loss:  0.177 || Test loss:  0.505\n",
      "   Train acc.:  0.956 || Test acc.:  0.843\n",
      "\n",
      "Epoch [ 74/100]\n",
      "   Train loss:  0.164 || Test loss:  0.519\n",
      "   Train acc.:  0.961 || Test acc.:  0.841\n",
      "\n",
      "Epoch [ 75/100]\n",
      "   Train loss:  0.162 || Test loss:  0.537\n",
      "   Train acc.:  0.961 || Test acc.:  0.837\n",
      "\n",
      "Epoch [ 76/100]\n",
      "   Train loss:  0.163 || Test loss:  0.534\n",
      "   Train acc.:  0.961 || Test acc.:  0.838\n",
      "\n",
      "Epoch [ 77/100]\n",
      "   Train loss:  0.161 || Test loss:  0.511\n",
      "   Train acc.:  0.961 || Test acc.:  0.842\n",
      "\n",
      "Epoch [ 78/100]\n",
      "   Train loss:  0.161 || Test loss:  0.499\n",
      "   Train acc.:  0.962 || Test acc.:  0.843\n",
      "\n",
      "Epoch [ 79/100]\n",
      "   Train loss:  0.166 || Test loss:  0.510\n",
      "   Train acc.:  0.959 || Test acc.:  0.841\n",
      "\n",
      "Epoch [ 80/100]\n",
      "   Train loss:  0.156 || Test loss:  0.527\n",
      "   Train acc.:  0.963 || Test acc.:  0.845\n",
      "\n"
     ]
    },
    {
     "name": "stdout",
     "output_type": "stream",
     "text": [
      "Epoch [ 81/100]\n",
      "   Train loss:  0.157 || Test loss:  0.511\n",
      "   Train acc.:  0.962 || Test acc.:  0.843\n",
      "\n",
      "Epoch [ 82/100]\n",
      "   Train loss:  0.158 || Test loss:  0.538\n",
      "   Train acc.:  0.962 || Test acc.:  0.842\n",
      "\n",
      "Epoch [ 83/100]\n",
      "   Train loss:  0.160 || Test loss:  0.505\n",
      "   Train acc.:  0.961 || Test acc.:  0.847\n",
      "\n",
      "Epoch [ 84/100]\n",
      "   Train loss:  0.155 || Test loss:  0.555\n",
      "   Train acc.:  0.963 || Test acc.:  0.839\n",
      "\n",
      "Epoch [ 85/100]\n",
      "   Train loss:  0.157 || Test loss:  0.593\n",
      "   Train acc.:  0.961 || Test acc.:  0.829\n",
      "\n",
      "Epoch [ 86/100]\n",
      "   Train loss:  0.187 || Test loss:  0.494\n",
      "   Train acc.:  0.950 || Test acc.:  0.832\n",
      "\n",
      "Epoch [ 87/100]\n",
      "   Train loss:  0.162 || Test loss:  0.555\n",
      "   Train acc.:  0.960 || Test acc.:  0.835\n",
      "\n",
      "Epoch [ 88/100]\n",
      "   Train loss:  0.150 || Test loss:  0.518\n",
      "   Train acc.:  0.965 || Test acc.:  0.845\n",
      "\n",
      "Epoch [ 89/100]\n",
      "   Train loss:  0.156 || Test loss:  0.524\n",
      "   Train acc.:  0.962 || Test acc.:  0.839\n",
      "\n",
      "Epoch [ 90/100]\n",
      "   Train loss:  0.151 || Test loss:  0.531\n",
      "   Train acc.:  0.964 || Test acc.:  0.845\n",
      "\n",
      "Epoch [ 91/100]\n",
      "   Train loss:  0.152 || Test loss:  0.528\n",
      "   Train acc.:  0.964 || Test acc.:  0.845\n",
      "\n",
      "Epoch [ 92/100]\n",
      "   Train loss:  0.148 || Test loss:  0.549\n",
      "   Train acc.:  0.965 || Test acc.:  0.845\n",
      "\n",
      "Epoch [ 93/100]\n",
      "   Train loss:  0.150 || Test loss:  0.535\n",
      "   Train acc.:  0.965 || Test acc.:  0.844\n",
      "\n",
      "Epoch [ 94/100]\n",
      "   Train loss:  0.149 || Test loss:  0.518\n",
      "   Train acc.:  0.964 || Test acc.:  0.847\n",
      "\n",
      "Epoch [ 95/100]\n",
      "   Train loss:  0.147 || Test loss:  0.528\n",
      "   Train acc.:  0.965 || Test acc.:  0.840\n",
      "\n",
      "Epoch [ 96/100]\n",
      "   Train loss:  0.146 || Test loss:  0.533\n",
      "   Train acc.:  0.965 || Test acc.:  0.842\n",
      "\n",
      "Epoch [ 97/100]\n",
      "   Train loss:  0.147 || Test loss:  0.529\n",
      "   Train acc.:  0.965 || Test acc.:  0.845\n",
      "\n",
      "Epoch [ 98/100]\n",
      "   Train loss:  0.146 || Test loss:  0.552\n",
      "   Train acc.:  0.965 || Test acc.:  0.839\n",
      "\n",
      "Epoch [ 99/100]\n",
      "   Train loss:  0.144 || Test loss:  0.531\n",
      "   Train acc.:  0.966 || Test acc.:  0.842\n",
      "\n",
      "Epoch [ 100/100]\n",
      "   Train loss:  0.145 || Test loss:  0.530\n",
      "   Train acc.:  0.966 || Test acc.:  0.842\n",
      "\n"
     ]
    }
   ],
   "source": [
    "TRAIN_DATA_LEN = len(train_dl)\n",
    "TEST_DATA_LEN = len(test_dl)\n",
    "\n",
    "print(f\"Training for {EPOCHS} epochs and {TRAIN_DATA_LEN} training iterations...\\n\")\n",
    "\n",
    "train_loss_epoch = []\n",
    "test_loss_epoch = []\n",
    "\n",
    "train_acc_epoch = []\n",
    "test_acc_epoch = []\n",
    "\n",
    "train_loss = []\n",
    "test_loss = []\n",
    "\n",
    "train_acc = []\n",
    "test_acc = []\n",
    "\n",
    "for epoch in range(1, EPOCHS + 1):\n",
    "    state = model.init_hidden_state(0,1)\n",
    "    train_loss.clear()\n",
    "    test_loss.clear()\n",
    "    \n",
    "    train_acc.clear()\n",
    "    test_acc.clear()\n",
    "    \n",
    "    model.train()\n",
    "    for i, (X, y) in enumerate(train_dl, start = 1):\n",
    "        opt.zero_grad()\n",
    "        X, y = X.to(device), y.to(device)\n",
    "        state = tuple([each.data for each in state])\n",
    "        \n",
    "        y_pred, new_state = model(X, state)\n",
    "        \n",
    "        loss = criterion(y_pred, y.float())\n",
    "        loss.backward()\n",
    "        \n",
    "        opt.step()\n",
    "        \n",
    "        acc = accuracy_score(y.cpu().numpy(), torch.where(y_pred.detach() >= 0.5, 1, 0).cpu().numpy())\n",
    "        \n",
    "        train_loss.append(loss.item())\n",
    "        train_acc.append(acc)\n",
    "        state = new_state\n",
    "\n",
    "    with torch.inference_mode():\n",
    "        model.eval()\n",
    "        state_ = model.init_hidden_state(0, 1)\n",
    "        \n",
    "        for i, (X_, y_) in enumerate(test_dl, start = 1):\n",
    "            X_, y_ = X_.to(device), y_.to(device)\n",
    "            state_ = tuple([each.data for each in state_])\n",
    "            y_pred, new_state = model(X_, state_)\n",
    "            \n",
    "            loss = criterion(y_pred, y_.float())\n",
    "            acc = accuracy_score(y_.cpu().numpy(), torch.where(y_pred.detach() >= 0.5, 1, 0).cpu().numpy())\n",
    "            test_loss.append(loss.item())\n",
    "            test_acc.append(acc)\n",
    "            state_ = new_state\n",
    "\n",
    "    ### Training metrics\n",
    "    train_loss_final = sum(train_loss)/len(train_loss)\n",
    "    train_acc_final = sum(train_acc)/len(train_acc)\n",
    "\n",
    "    train_loss_epoch.append(train_loss_final)\n",
    "    train_acc_epoch.append(train_acc_final)\n",
    "\n",
    "    ### Test metrics\n",
    "    test_loss_final = sum(test_loss)/len(test_loss)\n",
    "    test_acc_final = sum(test_acc)/len(test_acc)\n",
    "\n",
    "    test_loss_epoch.append(test_loss_final)\n",
    "    test_acc_epoch.append(test_acc_final)\n",
    "    \n",
    "    scheduler.step()\n",
    "\n",
    "    ### Print diagnostics\n",
    "    print(f\"Epoch [{epoch: 2d}/{EPOCHS}]\")\n",
    "    print(f\"   Train loss: {train_loss_final: .3f} || Test loss: {test_loss_final: .3f}\")\n",
    "    print(f\"   Train acc.: {train_acc_final: .3f} || Test acc.: {test_acc_final: .3f}\\n\")\n",
    "    "
   ]
  },
  {
   "cell_type": "code",
   "execution_count": 55,
   "id": "cdf48396",
   "metadata": {},
   "outputs": [
    {
     "data": {
      "image/png": "[encoded data removed]",
      "text/plain": [
       "<Figure size 1080x576 with 1 Axes>"
      ]
     },
     "metadata": {},
     "output_type": "display_data"
    }
   ],
   "source": [
    "plt.figure(figsize = (15, 8))\n",
    "plt.plot(range(1, EPOCHS + 1), train_loss_epoch, label = 'Train loss', marker = 'o')\n",
    "plt.plot(range(1, EPOCHS + 1), test_loss_epoch, label = 'Test loss', marker = 'o')\n",
    "\n",
    "plt.xlabel('Epoch')\n",
    "plt.ylabel('Loss')\n",
    "\n",
    "plt.legend()\n",
    "plt.tight_layout()\n",
    "\n",
    "plt.show(); plt.close('all')"
   ]
  },
  {
   "cell_type": "code",
   "execution_count": 56,
   "id": "02072027",
   "metadata": {},
   "outputs": [
    {
     "data": {
      "image/png": "[encoded data removed]",
      "text/plain": [
       "<Figure size 1080x576 with 1 Axes>"
      ]
     },
     "metadata": {},
     "output_type": "display_data"
    }
   ],
   "source": [
    "plt.figure(figsize = (15, 8))\n",
    "plt.plot(range(1, EPOCHS + 1), train_acc_epoch, label = 'Train acc', marker = 'o')\n",
    "plt.plot(range(1, EPOCHS + 1), test_acc_epoch, label = 'Test acc', marker = 'o')\n",
    "\n",
    "plt.xlabel('Epoch')\n",
    "plt.ylabel('Accuracy')\n",
    "\n",
    "plt.legend()\n",
    "plt.tight_layout()\n",
    "\n",
    "plt.show(); plt.close('all')"
   ]
  },
  {
   "cell_type": "code",
   "execution_count": 57,
   "id": "586a6205",
   "metadata": {},
   "outputs": [],
   "source": [
    "MODEL_NAME = \"saved-lstm-model.ckpt\"\n",
    "torch.save(model.state_dict(), MODEL_NAME)"
   ]
  },
  {
   "cell_type": "code",
   "execution_count": null,
   "id": "9a052f54",
   "metadata": {},
   "outputs": [],
   "source": []
  }
 ],
 "metadata": {
  "kernelspec": {
   "display_name": "Python 3 (ipykernel)",
   "language": "python",
   "name": "python3"
  },
  "language_info": {
   "codemirror_mode": {
    "name": "ipython",
    "version": 3
   },
   "file_extension": ".py",
   "mimetype": "text/x-python",
   "name": "python",
   "nbconvert_exporter": "python",
   "pygments_lexer": "ipython3",
   "version": "3.9.12"
  }
 },
 "nbformat": 4,
 "nbformat_minor": 5
}
